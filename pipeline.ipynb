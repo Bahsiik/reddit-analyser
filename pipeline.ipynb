{
 "cells": [
  {
   "cell_type": "code",
   "execution_count": 69,
   "id": "initial_id",
   "metadata": {
    "ExecuteTime": {
     "end_time": "2025-06-24T08:50:11.254740Z",
     "start_time": "2025-06-24T08:50:11.249851Z"
    },
    "collapsed": true
   },
   "outputs": [],
   "source": [
    "import pandas as pd\n",
    "from preprocessing.light.text_cleaner_light import TextCleaner\n",
    "from preprocessing.text_tokenizer import TextTokenizer\n",
    "from preprocessing.light.text_lemmatizer_light import TextLemmatizer\n",
    "from preprocessing.light.stopword_remover_light import StopwordRemover\n",
    "import torch\n",
    "import torch.nn as nn\n",
    "from embedding.fasttext import FastText\n",
    "import nltk\n",
    "import os\n",
    "\n",
    "from bs4 import MarkupResemblesLocatorWarning\n",
    "import warnings\n",
    "\n",
    "warnings.filterwarnings(\"ignore\", category=MarkupResemblesLocatorWarning)\n",
    "\n",
    "nltk_dir = 'nltk_data'\n",
    "nltk.data.path.append(os.path.abspath(nltk_dir))"
   ]
  },
  {
   "cell_type": "code",
   "execution_count": 70,
   "id": "69e4eea9a96035ed",
   "metadata": {
    "ExecuteTime": {
     "end_time": "2025-06-24T08:28:28.296479Z",
     "start_time": "2025-06-24T08:28:04.566982Z"
    }
   },
   "outputs": [],
   "source": [
    "df = pd.read_csv('./data/chatgpt-reddit-comments.csv')"
   ]
  },
  {
   "cell_type": "code",
   "execution_count": 71,
   "id": "3770360e1b6aa49e",
   "metadata": {
    "ExecuteTime": {
     "end_time": "2025-06-24T08:28:33.858116Z",
     "start_time": "2025-06-24T08:28:33.840972Z"
    }
   },
   "outputs": [
    {
     "data": {
      "text/html": [
       "<div>\n",
       "<style scoped>\n",
       "    .dataframe tbody tr th:only-of-type {\n",
       "        vertical-align: middle;\n",
       "    }\n",
       "\n",
       "    .dataframe tbody tr th {\n",
       "        vertical-align: top;\n",
       "    }\n",
       "\n",
       "    .dataframe thead th {\n",
       "        text-align: right;\n",
       "    }\n",
       "</style>\n",
       "<table border=\"1\" class=\"dataframe\">\n",
       "  <thead>\n",
       "    <tr style=\"text-align: right;\">\n",
       "      <th></th>\n",
       "      <th>Unnamed: 0</th>\n",
       "      <th>comment_id</th>\n",
       "      <th>comment_parent_id</th>\n",
       "      <th>comment_body</th>\n",
       "      <th>subreddit</th>\n",
       "    </tr>\n",
       "  </thead>\n",
       "  <tbody>\n",
       "    <tr>\n",
       "      <th>0</th>\n",
       "      <td>0</td>\n",
       "      <td>iztdxuh</td>\n",
       "      <td>t3_zj2aeu</td>\n",
       "      <td>I've been shocked for days now, I don't need c...</td>\n",
       "      <td>r/ChatGPT</td>\n",
       "    </tr>\n",
       "    <tr>\n",
       "      <th>1</th>\n",
       "      <td>1</td>\n",
       "      <td>iztn0q0</td>\n",
       "      <td>t3_zj2aeu</td>\n",
       "      <td>\\n\\nI am so angry right now. I just wasted my...</td>\n",
       "      <td>r/ChatGPT</td>\n",
       "    </tr>\n",
       "    <tr>\n",
       "      <th>2</th>\n",
       "      <td>2</td>\n",
       "      <td>izudrph</td>\n",
       "      <td>t3_zj2aeu</td>\n",
       "      <td>chatgpt karma whoring is here folks! just when...</td>\n",
       "      <td>r/ChatGPT</td>\n",
       "    </tr>\n",
       "    <tr>\n",
       "      <th>3</th>\n",
       "      <td>3</td>\n",
       "      <td>iztfhtb</td>\n",
       "      <td>t3_zj2aeu</td>\n",
       "      <td>Worked on me, ngl.</td>\n",
       "      <td>r/ChatGPT</td>\n",
       "    </tr>\n",
       "    <tr>\n",
       "      <th>4</th>\n",
       "      <td>4</td>\n",
       "      <td>izu2as9</td>\n",
       "      <td>t3_zj2aeu</td>\n",
       "      <td>Certified 10/10, must-see moment. It really di...</td>\n",
       "      <td>r/ChatGPT</td>\n",
       "    </tr>\n",
       "  </tbody>\n",
       "</table>\n",
       "</div>"
      ],
      "text/plain": [
       "  Unnamed: 0  ...  subreddit\n",
       "0          0  ...  r/ChatGPT\n",
       "1          1  ...  r/ChatGPT\n",
       "2          2  ...  r/ChatGPT\n",
       "3          3  ...  r/ChatGPT\n",
       "4          4  ...  r/ChatGPT\n",
       "\n",
       "[5 rows x 5 columns]"
      ]
     },
     "execution_count": 71,
     "metadata": {},
     "output_type": "execute_result"
    }
   ],
   "source": [
    "df.head()"
   ]
  },
  {
   "cell_type": "code",
   "execution_count": 72,
   "id": "9a41bffc",
   "metadata": {},
   "outputs": [
    {
     "data": {
      "text/html": [
       "<div>\n",
       "<style scoped>\n",
       "    .dataframe tbody tr th:only-of-type {\n",
       "        vertical-align: middle;\n",
       "    }\n",
       "\n",
       "    .dataframe tbody tr th {\n",
       "        vertical-align: top;\n",
       "    }\n",
       "\n",
       "    .dataframe thead th {\n",
       "        text-align: right;\n",
       "    }\n",
       "</style>\n",
       "<table border=\"1\" class=\"dataframe\">\n",
       "  <thead>\n",
       "    <tr style=\"text-align: right;\">\n",
       "      <th></th>\n",
       "      <th>comment_body</th>\n",
       "    </tr>\n",
       "  </thead>\n",
       "  <tbody>\n",
       "    <tr>\n",
       "      <th>6068</th>\n",
       "      <td>Well no. The target audience for this is prima...</td>\n",
       "    </tr>\n",
       "    <tr>\n",
       "      <th>31043</th>\n",
       "      <td>Honest question, how does ChatGPT help speed u...</td>\n",
       "    </tr>\n",
       "    <tr>\n",
       "      <th>12138</th>\n",
       "      <td>You’re getting something out of it either way</td>\n",
       "    </tr>\n",
       "    <tr>\n",
       "      <th>10140</th>\n",
       "      <td>But that's my favorite kind of data</td>\n",
       "    </tr>\n",
       "    <tr>\n",
       "      <th>9119</th>\n",
       "      <td>Kurt Vonnegut already covered this in a short ...</td>\n",
       "    </tr>\n",
       "  </tbody>\n",
       "</table>\n",
       "</div>"
      ],
      "text/plain": [
       "                                            comment_body\n",
       "6068   Well no. The target audience for this is prima...\n",
       "31043  Honest question, how does ChatGPT help speed u...\n",
       "12138      You’re getting something out of it either way\n",
       "10140                But that's my favorite kind of data\n",
       "9119   Kurt Vonnegut already covered this in a short ..."
      ]
     },
     "execution_count": 72,
     "metadata": {},
     "output_type": "execute_result"
    }
   ],
   "source": [
    "df_shortened = df.sample(n=1000)\n",
    "# Keep only the comment_body column\n",
    "df_shortened = df_shortened[['comment_body']]\n",
    "df_shortened.head()"
   ]
  },
  {
   "cell_type": "code",
   "execution_count": 73,
   "id": "87b45ac2b2fa1050",
   "metadata": {
    "ExecuteTime": {
     "end_time": "2025-06-24T08:29:11.076450Z",
     "start_time": "2025-06-24T08:28:35.007707Z"
    }
   },
   "outputs": [
    {
     "data": {
      "text/html": [
       "<div>\n",
       "<style scoped>\n",
       "    .dataframe tbody tr th:only-of-type {\n",
       "        vertical-align: middle;\n",
       "    }\n",
       "\n",
       "    .dataframe tbody tr th {\n",
       "        vertical-align: top;\n",
       "    }\n",
       "\n",
       "    .dataframe thead th {\n",
       "        text-align: right;\n",
       "    }\n",
       "</style>\n",
       "<table border=\"1\" class=\"dataframe\">\n",
       "  <thead>\n",
       "    <tr style=\"text-align: right;\">\n",
       "      <th></th>\n",
       "      <th>comment_body</th>\n",
       "    </tr>\n",
       "  </thead>\n",
       "  <tbody>\n",
       "    <tr>\n",
       "      <th>6068</th>\n",
       "      <td>well no the target audience for this is primar...</td>\n",
       "    </tr>\n",
       "    <tr>\n",
       "      <th>31043</th>\n",
       "      <td>honest question how does chatgpt help speed up...</td>\n",
       "    </tr>\n",
       "    <tr>\n",
       "      <th>12138</th>\n",
       "      <td>you’re getting something out of it either way</td>\n",
       "    </tr>\n",
       "    <tr>\n",
       "      <th>10140</th>\n",
       "      <td>but that's my favorite kind of data</td>\n",
       "    </tr>\n",
       "    <tr>\n",
       "      <th>9119</th>\n",
       "      <td>kurt vonnegut already covered this in a short ...</td>\n",
       "    </tr>\n",
       "  </tbody>\n",
       "</table>\n",
       "</div>"
      ],
      "text/plain": [
       "                                            comment_body\n",
       "6068   well no the target audience for this is primar...\n",
       "31043  honest question how does chatgpt help speed up...\n",
       "12138      you’re getting something out of it either way\n",
       "10140                but that's my favorite kind of data\n",
       "9119   kurt vonnegut already covered this in a short ..."
      ]
     },
     "execution_count": 73,
     "metadata": {},
     "output_type": "execute_result"
    }
   ],
   "source": [
    "TextCleaner = TextCleaner()\n",
    "df_cleaned = df_shortened.copy()\n",
    "for index, row in df_shortened.iterrows():\n",
    "    df_cleaned.at[index, 'comment_body'] = TextCleaner.clean_text(row['comment_body'])\n",
    "\n",
    "df_cleaned.head()"
   ]
  },
  {
   "cell_type": "code",
   "execution_count": 74,
   "id": "8e3e2e02d31a17c3",
   "metadata": {
    "ExecuteTime": {
     "end_time": "2025-06-24T08:29:11.950515Z",
     "start_time": "2025-06-24T08:29:11.935996Z"
    }
   },
   "outputs": [
    {
     "data": {
      "text/html": [
       "<div>\n",
       "<style scoped>\n",
       "    .dataframe tbody tr th:only-of-type {\n",
       "        vertical-align: middle;\n",
       "    }\n",
       "\n",
       "    .dataframe tbody tr th {\n",
       "        vertical-align: top;\n",
       "    }\n",
       "\n",
       "    .dataframe thead th {\n",
       "        text-align: right;\n",
       "    }\n",
       "</style>\n",
       "<table border=\"1\" class=\"dataframe\">\n",
       "  <thead>\n",
       "    <tr style=\"text-align: right;\">\n",
       "      <th></th>\n",
       "      <th>comment_body</th>\n",
       "    </tr>\n",
       "  </thead>\n",
       "  <tbody>\n",
       "    <tr>\n",
       "      <th>6068</th>\n",
       "      <td>[well, no, the, target, audience, for, this, i...</td>\n",
       "    </tr>\n",
       "    <tr>\n",
       "      <th>31043</th>\n",
       "      <td>[honest, question, how, does, chatgpt, help, s...</td>\n",
       "    </tr>\n",
       "    <tr>\n",
       "      <th>12138</th>\n",
       "      <td>[you, ’, re, getting, something, out, of, it, ...</td>\n",
       "    </tr>\n",
       "    <tr>\n",
       "      <th>10140</th>\n",
       "      <td>[but, that, 's, my, favorite, kind, of, data]</td>\n",
       "    </tr>\n",
       "    <tr>\n",
       "      <th>9119</th>\n",
       "      <td>[kurt, vonnegut, already, covered, this, in, a...</td>\n",
       "    </tr>\n",
       "  </tbody>\n",
       "</table>\n",
       "</div>"
      ],
      "text/plain": [
       "                                            comment_body\n",
       "6068   [well, no, the, target, audience, for, this, i...\n",
       "31043  [honest, question, how, does, chatgpt, help, s...\n",
       "12138  [you, ’, re, getting, something, out, of, it, ...\n",
       "10140      [but, that, 's, my, favorite, kind, of, data]\n",
       "9119   [kurt, vonnegut, already, covered, this, in, a..."
      ]
     },
     "execution_count": 74,
     "metadata": {},
     "output_type": "execute_result"
    }
   ],
   "source": [
    "TextTokenizer = TextTokenizer()\n",
    "df_tokenised = df_cleaned.copy()\n",
    "for index, row in df_cleaned.iterrows():\n",
    "    df_tokenised.at[index, 'comment_body'] = TextTokenizer.tokenize(row['comment_body'])\n",
    "\n",
    "df_tokenised.head()"
   ]
  },
  {
   "cell_type": "code",
   "execution_count": 75,
   "id": "a451f12ba3aed5dc",
   "metadata": {
    "ExecuteTime": {
     "end_time": "2025-06-24T08:29:12.089239Z",
     "start_time": "2025-06-24T08:29:12.070247Z"
    }
   },
   "outputs": [
    {
     "data": {
      "text/html": [
       "<div>\n",
       "<style scoped>\n",
       "    .dataframe tbody tr th:only-of-type {\n",
       "        vertical-align: middle;\n",
       "    }\n",
       "\n",
       "    .dataframe tbody tr th {\n",
       "        vertical-align: top;\n",
       "    }\n",
       "\n",
       "    .dataframe thead th {\n",
       "        text-align: right;\n",
       "    }\n",
       "</style>\n",
       "<table border=\"1\" class=\"dataframe\">\n",
       "  <thead>\n",
       "    <tr style=\"text-align: right;\">\n",
       "      <th></th>\n",
       "      <th>comment_body</th>\n",
       "    </tr>\n",
       "  </thead>\n",
       "  <tbody>\n",
       "    <tr>\n",
       "      <th>6068</th>\n",
       "      <td>[well, no, target, audience, primarily, going,...</td>\n",
       "    </tr>\n",
       "    <tr>\n",
       "      <th>31043</th>\n",
       "      <td>[honest, question, chatgpt, help, speed, your,...</td>\n",
       "    </tr>\n",
       "    <tr>\n",
       "      <th>12138</th>\n",
       "      <td>[you, ’, getting, something, either, way]</td>\n",
       "    </tr>\n",
       "    <tr>\n",
       "      <th>10140</th>\n",
       "      <td>[but, 's, my, favorite, kind, data]</td>\n",
       "    </tr>\n",
       "    <tr>\n",
       "      <th>9119</th>\n",
       "      <td>[kurt, vonnegut, already, covered, short, stor...</td>\n",
       "    </tr>\n",
       "  </tbody>\n",
       "</table>\n",
       "</div>"
      ],
      "text/plain": [
       "                                            comment_body\n",
       "6068   [well, no, target, audience, primarily, going,...\n",
       "31043  [honest, question, chatgpt, help, speed, your,...\n",
       "12138          [you, ’, getting, something, either, way]\n",
       "10140                [but, 's, my, favorite, kind, data]\n",
       "9119   [kurt, vonnegut, already, covered, short, stor..."
      ]
     },
     "execution_count": 75,
     "metadata": {},
     "output_type": "execute_result"
    }
   ],
   "source": [
    "StopwordRemover = StopwordRemover()\n",
    "df_stopwords_removed = df_tokenised.copy()\n",
    "for index, row in df_tokenised.iterrows():\n",
    "    df_stopwords_removed.at[index, 'comment_body'] = StopwordRemover.remove_stopwords(row['comment_body'])\n",
    "\n",
    "df_stopwords_removed.head()"
   ]
  },
  {
   "cell_type": "code",
   "execution_count": 76,
   "id": "ff52b799a0db5683",
   "metadata": {
    "ExecuteTime": {
     "end_time": "2025-06-24T08:29:16.611169Z",
     "start_time": "2025-06-24T08:29:12.198121Z"
    }
   },
   "outputs": [
    {
     "data": {
      "text/html": [
       "<div>\n",
       "<style scoped>\n",
       "    .dataframe tbody tr th:only-of-type {\n",
       "        vertical-align: middle;\n",
       "    }\n",
       "\n",
       "    .dataframe tbody tr th {\n",
       "        vertical-align: top;\n",
       "    }\n",
       "\n",
       "    .dataframe thead th {\n",
       "        text-align: right;\n",
       "    }\n",
       "</style>\n",
       "<table border=\"1\" class=\"dataframe\">\n",
       "  <thead>\n",
       "    <tr style=\"text-align: right;\">\n",
       "      <th></th>\n",
       "      <th>comment_body</th>\n",
       "    </tr>\n",
       "  </thead>\n",
       "  <tbody>\n",
       "    <tr>\n",
       "      <th>6068</th>\n",
       "      <td>[wel, no, target, audience, primarily, go, dev...</td>\n",
       "    </tr>\n",
       "    <tr>\n",
       "      <th>31043</th>\n",
       "      <td>[honest, question, chatgpt, help, speed, your,...</td>\n",
       "    </tr>\n",
       "    <tr>\n",
       "      <th>12138</th>\n",
       "      <td>[you, ’, get, something, either, way]</td>\n",
       "    </tr>\n",
       "    <tr>\n",
       "      <th>10140</th>\n",
       "      <td>[but, 's, my, favorite, kind, data]</td>\n",
       "    </tr>\n",
       "    <tr>\n",
       "      <th>9119</th>\n",
       "      <td>[kurt, vonegut, already, cover, short, story, ...</td>\n",
       "    </tr>\n",
       "  </tbody>\n",
       "</table>\n",
       "</div>"
      ],
      "text/plain": [
       "                                            comment_body\n",
       "6068   [wel, no, target, audience, primarily, go, dev...\n",
       "31043  [honest, question, chatgpt, help, speed, your,...\n",
       "12138              [you, ’, get, something, either, way]\n",
       "10140                [but, 's, my, favorite, kind, data]\n",
       "9119   [kurt, vonegut, already, cover, short, story, ..."
      ]
     },
     "execution_count": 76,
     "metadata": {},
     "output_type": "execute_result"
    }
   ],
   "source": [
    "TextLemmatizer = TextLemmatizer()\n",
    "df_lemmatised = df_stopwords_removed.copy()\n",
    "for index, row in df_stopwords_removed.iterrows():\n",
    "    df_lemmatised.at[index, 'comment_body'] = TextLemmatizer.lemmatize(row['comment_body'])\n",
    "\n",
    "df_lemmatised.head()\n"
   ]
  },
  {
   "cell_type": "code",
   "execution_count": 77,
   "id": "23dd62c2",
   "metadata": {},
   "outputs": [
    {
     "name": "stdout",
     "output_type": "stream",
     "text": [
      "Number of empty comments: 3\n",
      "\n",
      "Empty comments found at indices:\n",
      "[15888, 906, 8223]\n",
      "Number of empty comments: 0\n"
     ]
    }
   ],
   "source": [
    "# Check for empty comment bodies\n",
    "empty_comments = df_lemmatised[df_lemmatised['comment_body'].apply(lambda x: len(x) == 0)]\n",
    "print(\"Number of empty comments:\", len(empty_comments))\n",
    "\n",
    "if len(empty_comments) > 0:\n",
    "\tprint(\"\\nEmpty comments found at indices:\")\n",
    "\tprint(empty_comments.index.tolist())\n",
    "\n",
    "# Remove empty comments\n",
    "df_lemmatised = df_lemmatised[df_lemmatised['comment_body'].apply(lambda x: len(x) > 0)]\n",
    "\n",
    "# Check for empty comment bodies again\n",
    "empty_comments = df_lemmatised[df_lemmatised['comment_body'].apply(lambda x: len(x) == 0)]\n",
    "print(\"Number of empty comments:\", len(empty_comments))\n",
    "\n",
    "if len(empty_comments) > 0:\n",
    "\tprint(\"\\nEmpty comments found at indices:\")"
   ]
  },
  {
   "cell_type": "code",
   "execution_count": 79,
   "id": "59ea98b35f234f86",
   "metadata": {
    "ExecuteTime": {
     "end_time": "2025-06-24T08:29:19.823487Z",
     "start_time": "2025-06-24T08:29:19.781084Z"
    }
   },
   "outputs": [
    {
     "data": {
      "text/html": [
       "<div>\n",
       "<style scoped>\n",
       "    .dataframe tbody tr th:only-of-type {\n",
       "        vertical-align: middle;\n",
       "    }\n",
       "\n",
       "    .dataframe tbody tr th {\n",
       "        vertical-align: top;\n",
       "    }\n",
       "\n",
       "    .dataframe thead th {\n",
       "        text-align: right;\n",
       "    }\n",
       "</style>\n",
       "<table border=\"1\" class=\"dataframe\">\n",
       "  <thead>\n",
       "    <tr style=\"text-align: right;\">\n",
       "      <th></th>\n",
       "      <th>comment_body</th>\n",
       "    </tr>\n",
       "  </thead>\n",
       "  <tbody>\n",
       "    <tr>\n",
       "      <th>6068</th>\n",
       "      <td>[[-0.0015685549, -0.00063735497, 0.00025610105...</td>\n",
       "    </tr>\n",
       "    <tr>\n",
       "      <th>31043</th>\n",
       "      <td>[[-0.002523894, -0.00022260385, 0.0012745028, ...</td>\n",
       "    </tr>\n",
       "    <tr>\n",
       "      <th>12138</th>\n",
       "      <td>[[-0.0013823122, 0.0015027038, 0.004246538, -0...</td>\n",
       "    </tr>\n",
       "    <tr>\n",
       "      <th>10140</th>\n",
       "      <td>[[-0.0020843192, -0.00069697853, 0.0012438336,...</td>\n",
       "    </tr>\n",
       "    <tr>\n",
       "      <th>9119</th>\n",
       "      <td>[[-0.003093817, 0.00037026755, 0.0001215018, 0...</td>\n",
       "    </tr>\n",
       "  </tbody>\n",
       "</table>\n",
       "</div>"
      ],
      "text/plain": [
       "                                            comment_body\n",
       "6068   [[-0.0015685549, -0.00063735497, 0.00025610105...\n",
       "31043  [[-0.002523894, -0.00022260385, 0.0012745028, ...\n",
       "12138  [[-0.0013823122, 0.0015027038, 0.004246538, -0...\n",
       "10140  [[-0.0020843192, -0.00069697853, 0.0012438336,...\n",
       "9119   [[-0.003093817, 0.00037026755, 0.0001215018, 0..."
      ]
     },
     "execution_count": 79,
     "metadata": {},
     "output_type": "execute_result"
    }
   ],
   "source": [
    "fasttext = FastText()\n",
    "df_embeddings = df_lemmatised.copy()\n",
    "for index, row in df_lemmatised.iterrows():\n",
    "    df_embeddings.at[index, 'comment_body'] = fasttext.fit_transform(row['comment_body'])\n",
    "\n",
    "df_embeddings.head()"
   ]
  },
  {
   "cell_type": "code",
   "execution_count": 86,
   "id": "82f2f75b0379d5e4",
   "metadata": {
    "ExecuteTime": {
     "end_time": "2025-06-24T08:50:40.053268Z",
     "start_time": "2025-06-24T08:50:40.032384Z"
    }
   },
   "outputs": [
    {
     "name": "stdout",
     "output_type": "stream",
     "text": [
      "Forme du tenseur normalisé: torch.Size([997, 100])\n",
      "Type de données: torch.float32\n",
      "Premiers embeddings normalisés:\n",
      "tensor([[-6.7944e-02, -2.7608e-02,  1.1093e-02, -1.9594e-02, -1.3366e-01,\n",
      "         -6.7888e-02, -1.0984e-01, -2.0408e-03,  1.1035e-01,  5.1364e-02,\n",
      "          3.9179e-02,  7.5048e-02,  9.5151e-02,  1.4180e-01, -5.0130e-02,\n",
      "          6.6154e-02, -1.7204e-01,  2.0116e-02, -6.2170e-02, -1.4266e-01,\n",
      "         -7.4383e-03,  1.4021e-01, -2.1901e-02,  3.3547e-02, -1.2465e-02,\n",
      "         -1.5679e-02,  5.0775e-02,  1.4304e-01,  1.3047e-02, -1.7786e-02,\n",
      "          5.9510e-02, -1.5878e-01, -1.2184e-01,  1.1432e-01,  9.8218e-02,\n",
      "          1.4094e-01, -1.5542e-02, -1.7387e-01,  2.2408e-02,  8.1070e-02,\n",
      "          1.2506e-01,  5.2415e-02,  1.2989e-01, -6.4423e-02, -1.0034e-01,\n",
      "          1.1741e-01, -1.1465e-02, -7.1885e-03,  1.2384e-01, -1.3199e-01,\n",
      "          6.8267e-02, -1.9015e-01, -2.9003e-03,  4.1004e-02, -3.6631e-02,\n",
      "         -2.5901e-01,  4.2535e-02, -4.2231e-02, -1.2047e-01,  1.3133e-01,\n",
      "         -8.3419e-03,  1.0974e-01,  3.7349e-02,  2.0038e-01, -1.7740e-02,\n",
      "         -3.1304e-02,  1.0656e-01,  1.6211e-01, -5.8869e-02, -9.3591e-02,\n",
      "          1.9019e-02,  1.7615e-02, -1.3272e-01, -5.1812e-02,  2.3171e-01,\n",
      "         -9.7253e-03, -2.9181e-02, -1.0667e-01, -4.9690e-02, -3.3762e-02,\n",
      "          9.3530e-02, -5.4791e-02, -1.5632e-01, -3.9973e-03,  4.6257e-02,\n",
      "          1.3267e-01, -1.1692e-01, -1.8999e-02,  1.0772e-01, -1.6258e-01,\n",
      "         -3.4658e-02,  3.5566e-02, -8.4644e-03, -3.3118e-02, -1.1520e-01,\n",
      "         -5.3095e-02,  2.3039e-01,  4.4960e-02, -4.5897e-02, -2.3561e-01],\n",
      "        [-1.4049e-01, -1.2391e-02,  7.0942e-02,  8.6523e-02,  6.3755e-02,\n",
      "         -6.4763e-02, -1.2365e-02,  6.6519e-02, -4.4293e-02,  1.7224e-02,\n",
      "          1.1126e-02,  1.2342e-01,  2.0162e-03,  7.6069e-03,  1.6100e-01,\n",
      "          1.2912e-02, -2.1914e-01, -1.3474e-01,  4.1982e-02,  1.1828e-01,\n",
      "         -1.7549e-01, -9.9122e-02, -1.3567e-01,  5.9974e-02,  1.5005e-01,\n",
      "         -3.5733e-02, -3.2327e-02,  5.9339e-02,  1.6685e-02,  7.0175e-02,\n",
      "         -4.7183e-02, -2.9373e-02, -1.8473e-01, -1.8929e-03,  5.8933e-02,\n",
      "         -2.7553e-03,  4.1652e-02, -2.3631e-01, -5.4448e-02,  1.4998e-01,\n",
      "          4.6587e-02, -2.6271e-03, -3.1707e-02, -1.4247e-01, -2.8714e-02,\n",
      "         -3.7918e-02,  2.0477e-02, -1.1906e-02,  3.7954e-02, -1.0090e-01,\n",
      "          1.3271e-01, -1.3001e-01, -3.6700e-02, -9.2943e-02,  1.2229e-01,\n",
      "         -3.1226e-03, -2.3765e-02, -1.7383e-01, -6.3110e-02,  1.8626e-01,\n",
      "          1.5537e-01, -4.7147e-02, -8.2330e-02,  1.7233e-01,  1.1978e-01,\n",
      "          1.5042e-01, -9.8366e-02, -3.6456e-02, -5.8942e-03, -1.0730e-01,\n",
      "         -3.8731e-02, -1.1999e-01, -9.5988e-03, -3.2444e-02, -8.4499e-02,\n",
      "         -7.8437e-02, -2.2028e-02,  7.4485e-03,  5.0814e-02, -1.3260e-01,\n",
      "         -7.9514e-02,  4.4214e-02, -1.6617e-01,  6.4535e-02, -1.2116e-01,\n",
      "          2.2989e-01, -1.8750e-01, -4.8807e-03,  1.4049e-01, -1.8513e-02,\n",
      "          8.6964e-02,  1.5087e-01,  1.2599e-01, -6.6449e-02,  9.2582e-02,\n",
      "         -5.8603e-02,  7.8338e-03, -1.9050e-01, -2.9217e-02, -7.8848e-02],\n",
      "        [-5.8404e-02,  6.3490e-02,  1.7942e-01, -7.2050e-02,  4.8843e-02,\n",
      "         -2.7967e-02, -1.2912e-02, -4.3851e-02, -1.6371e-02, -7.4832e-03,\n",
      "          9.0882e-02, -1.0566e-02,  1.4259e-01, -2.5700e-02, -2.9995e-02,\n",
      "         -9.1355e-02,  3.5530e-02, -1.3826e-01,  1.2197e-02, -5.4886e-03,\n",
      "         -2.6508e-02, -9.3329e-02, -1.7719e-01,  1.4799e-01, -1.1295e-01,\n",
      "          1.3142e-02,  5.5367e-02, -7.5068e-02, -1.6065e-01,  1.0472e-01,\n",
      "          7.7771e-03, -1.1379e-01, -1.8247e-01, -1.1645e-01, -1.8638e-02,\n",
      "         -1.8150e-01, -7.3265e-02, -9.0799e-02, -9.3956e-03,  4.4981e-02,\n",
      "          1.7981e-01,  5.3750e-02,  4.4368e-02, -7.4883e-02,  1.0124e-03,\n",
      "         -1.0851e-01,  1.1047e-01,  1.3247e-01,  1.1459e-01, -3.0771e-02,\n",
      "          5.1111e-02, -1.9750e-01, -1.3163e-01, -5.5554e-02,  6.0738e-02,\n",
      "         -3.8888e-02,  1.4673e-01,  8.5182e-02, -9.9493e-02, -9.7055e-04,\n",
      "         -4.5382e-02, -9.4659e-02, -9.6254e-02, -2.3232e-01,  2.1397e-01,\n",
      "          5.7293e-02, -5.2238e-02, -8.0423e-03,  1.5461e-01, -1.2845e-01,\n",
      "          2.5128e-01,  3.3265e-02,  8.0237e-02, -1.5477e-01,  1.2086e-02,\n",
      "         -1.3937e-01, -7.4645e-02, -3.5737e-02, -1.4442e-02,  2.7668e-02,\n",
      "         -9.5110e-02, -1.1490e-01, -1.2406e-01,  4.5621e-04, -8.4706e-02,\n",
      "          2.8018e-01, -8.9643e-03, -3.2427e-02,  1.9435e-02,  9.3338e-02,\n",
      "          1.2082e-01,  3.8909e-02, -4.4100e-02, -8.7356e-03,  2.0113e-02,\n",
      "         -8.9911e-02,  6.5997e-02, -1.3571e-02,  5.0888e-02, -1.6585e-02],\n",
      "        [-9.0836e-02, -3.0375e-02,  5.4207e-02, -2.2859e-02, -4.0986e-02,\n",
      "          7.3239e-02, -4.0484e-02,  7.1987e-02,  1.0140e-01, -1.9893e-03,\n",
      "         -7.2002e-02, -1.4975e-01,  5.3356e-02,  8.1981e-02, -1.3836e-01,\n",
      "          6.2700e-02, -1.9358e-02, -2.1539e-01, -1.1865e-01,  5.9942e-02,\n",
      "         -1.2339e-01, -1.6065e-01,  3.3749e-02, -8.2691e-02,  5.1880e-03,\n",
      "          1.0204e-01, -9.9708e-02,  2.4265e-02, -1.2687e-01,  8.5035e-02,\n",
      "         -8.1882e-02,  8.1566e-02, -4.3559e-03,  8.7136e-02,  1.4567e-02,\n",
      "         -1.5898e-01, -1.1318e-01, -1.5677e-01, -1.5825e-01,  6.7708e-02,\n",
      "          8.4029e-02, -6.5470e-02, -1.2770e-01, -2.3061e-02, -1.3799e-01,\n",
      "          1.1310e-01, -1.0993e-02,  1.1922e-01,  5.3102e-02, -1.0756e-01,\n",
      "          7.2533e-02, -1.5284e-01, -1.3531e-01,  6.4759e-02, -2.0087e-02,\n",
      "         -1.0941e-01,  1.2045e-01,  1.0047e-01,  1.9075e-01,  3.7853e-02,\n",
      "          8.5100e-02,  2.3996e-02,  1.1735e-02,  1.2159e-01, -1.8498e-02,\n",
      "          2.0593e-01, -4.0463e-02, -2.1508e-02,  1.1842e-01,  9.4175e-02,\n",
      "         -1.2055e-01, -7.4158e-02,  1.3287e-01,  8.0895e-02, -2.5518e-02,\n",
      "          1.8783e-02, -4.4282e-02,  1.1977e-01, -1.2048e-02,  2.6279e-02,\n",
      "          7.4268e-02, -9.0783e-02, -1.0441e-01, -5.6960e-02, -2.5566e-04,\n",
      "          5.5030e-02, -4.3228e-02, -6.7338e-02,  1.5352e-01, -1.7690e-01,\n",
      "          9.7901e-02,  1.7641e-01,  1.0583e-01, -1.2990e-01,  1.7340e-01,\n",
      "         -1.3890e-01,  7.9408e-02, -1.4894e-01,  4.5214e-02,  1.5286e-01],\n",
      "        [-1.5500e-01,  1.8550e-02,  6.0871e-03,  9.4165e-02, -4.8203e-02,\n",
      "         -7.7438e-02, -1.3231e-01,  1.6283e-01,  9.5983e-02, -6.5530e-02,\n",
      "         -9.9932e-02, -9.5573e-02,  2.8003e-02,  1.9365e-01,  6.2774e-02,\n",
      "          1.0465e-01,  8.6324e-02, -1.8782e-01,  1.0237e-01,  1.3849e-02,\n",
      "         -1.8049e-01, -4.7494e-02,  2.5321e-02,  4.8324e-02,  5.4924e-02,\n",
      "          4.4373e-02,  1.3606e-01,  6.2794e-02,  2.3608e-02, -4.6971e-02,\n",
      "          1.0672e-01,  3.9350e-02, -2.1337e-01,  1.6089e-03,  1.0955e-01,\n",
      "         -1.2331e-01, -4.2683e-02, -3.0763e-02, -2.6336e-02,  8.1173e-02,\n",
      "          1.8579e-02,  1.5303e-03,  1.8061e-02, -2.1807e-02, -9.5720e-02,\n",
      "          1.3270e-01, -5.9837e-02,  1.2996e-01,  8.7885e-02, -6.5466e-02,\n",
      "         -9.5065e-02, -1.4346e-01, -2.8163e-01,  6.8781e-02,  9.0374e-02,\n",
      "         -1.7310e-01,  2.1794e-02, -4.3964e-02,  3.8376e-02, -7.7281e-02,\n",
      "          1.4984e-01,  5.9466e-05,  4.9244e-02,  1.6238e-01,  1.2564e-01,\n",
      "          7.3893e-02, -5.9342e-02,  3.6649e-02,  9.0664e-03,  1.1087e-01,\n",
      "          2.0240e-02, -8.5237e-02,  2.6629e-02, -1.4781e-01, -1.3579e-01,\n",
      "         -1.0217e-01,  2.2567e-02,  9.3327e-02, -1.5961e-01, -1.9182e-01,\n",
      "         -1.1122e-01,  7.6098e-02,  5.8762e-02, -3.4485e-02, -1.1029e-02,\n",
      "          1.8068e-01, -7.4857e-02,  6.9080e-02,  5.7327e-02, -1.1625e-01,\n",
      "          4.5904e-02, -4.8298e-02,  1.7266e-01, -1.5290e-01,  3.4188e-02,\n",
      "          2.4123e-03, -2.9091e-03,  6.1487e-02,  8.2921e-02, -1.2981e-01]])\n"
     ]
    }
   ],
   "source": [
    "# Corriger pour utiliser df_embeddings au lieu de df_shortened\n",
    "embeddings_list = df_embeddings['comment_body'].tolist()\n",
    "X_tensor = torch.stack([torch.tensor(emb[0], dtype=torch.float32) for emb in embeddings_list])\n",
    "\n",
    "X_normalised = nn.functional.normalize(X_tensor, dim=1)\n",
    "\n",
    "print(\"Forme du tenseur normalisé:\", X_normalised.shape)\n",
    "print(\"Type de données:\", X_normalised.dtype)\n",
    "print(\"Premiers embeddings normalisés:\")\n",
    "print(X_normalised[:5])"
   ]
  },
  {
   "cell_type": "code",
   "execution_count": 87,
   "id": "62fbcd19",
   "metadata": {},
   "outputs": [],
   "source": [
    "class AutoEncoder(nn.Module):\n",
    "    def __init__(self, input_dim, hidden_dim=32):\n",
    "        super(AutoEncoder, self).__init__()\n",
    "\n",
    "        self.encoder = nn.Sequential(\n",
    "            nn.Linear(input_dim, hidden_dim),\n",
    "            nn.Tanh()\n",
    "        )\n",
    "\n",
    "        self.decoder = nn.Sequential(\n",
    "            nn.Linear(hidden_dim, input_dim),\n",
    "            nn.Tanh()\n",
    "        )\n",
    "\n",
    "    def forward(self, x):\n",
    "        X_encoded = self.encoder(x)\n",
    "        X_decoded = self.decoder(X_encoded)\n",
    "        return X_decoded\n"
   ]
  },
  {
   "cell_type": "code",
   "execution_count": 88,
   "id": "b4f38e9a",
   "metadata": {},
   "outputs": [
    {
     "name": "stdout",
     "output_type": "stream",
     "text": [
      "Classes Dataset et DataLoader préparées\n"
     ]
    }
   ],
   "source": [
    "import torch.optim as optim\n",
    "from torch.utils.data import Dataset, DataLoader\n",
    "\n",
    "class EmbeddingDataset(Dataset):\n",
    "    def __init__(self, embeddings):\n",
    "        self.embeddings = embeddings\n",
    "    \n",
    "    def __len__(self):\n",
    "        return len(self.embeddings)\n",
    "    \n",
    "    def __getitem__(self, idx):\n",
    "        return self.embeddings[idx]\n",
    "\n",
    "print(\"Classes Dataset et DataLoader préparées\")\n"
   ]
  },
  {
   "cell_type": "code",
   "execution_count": 89,
   "id": "ad1c5929",
   "metadata": {},
   "outputs": [
    {
     "name": "stdout",
     "output_type": "stream",
     "text": [
      "Utilisation du device: cpu\n",
      "Type des données: torch.float32\n",
      "Type des paramètres du modèle: torch.float32\n",
      "Modèle créé avec input_dim=100, hidden_dim=32\n",
      "Nombre de paramètres: 6532\n",
      "Dataset créé avec 997 échantillons\n",
      "Nombre de batches: 32\n"
     ]
    }
   ],
   "source": [
    "# Initialiser le modèle et les paramètres d'entraînement\n",
    "device = torch.device(\"cuda\" if torch.cuda.is_available() else \"cpu\")\n",
    "print(f\"Utilisation du device: {device}\")\n",
    "\n",
    "# Créer l'autoencoder\n",
    "input_dim = X_normalised.shape[1] \n",
    "hidden_dim = 32 \n",
    "model = AutoEncoder(input_dim, hidden_dim).to(device)\n",
    "\n",
    "# Déplacer les données vers le bon device\n",
    "X_normalised = X_normalised.to(device)\n",
    "\n",
    "# Créer le dataset et dataloader maintenant que X_normalised est prêt\n",
    "dataset = EmbeddingDataset(X_normalised)\n",
    "batch_size = 32\n",
    "dataloader = DataLoader(dataset, batch_size=batch_size, shuffle=True)\n",
    "\n",
    "criterion = nn.MSELoss()\n",
    "optimizer = optim.Adam(model.parameters(), lr=0.001)\n",
    "\n",
    "print(f\"Modèle créé avec input_dim={input_dim}, hidden_dim={hidden_dim}\")\n",
    "print(f\"Nombre de paramètres: {sum(p.numel() for p in model.parameters())}\")\n",
    "print(f\"Dataset créé avec {len(dataset)} échantillons\")\n",
    "print(f\"Nombre de batches: {len(dataloader)}\")\n"
   ]
  },
  {
   "cell_type": "code",
   "execution_count": null,
   "id": "dd31b557",
   "metadata": {},
   "outputs": [
    {
     "name": "stdout",
     "output_type": "stream",
     "text": [
      "Époque 10/100, Perte moyenne: 0.001910\n",
      "Époque 20/100, Perte moyenne: 0.000959\n",
      "Époque 30/100, Perte moyenne: 0.000688\n",
      "Époque 40/100, Perte moyenne: 0.000579\n",
      "Époque 50/100, Perte moyenne: 0.000528\n",
      "Époque 60/100, Perte moyenne: 0.000534\n",
      "Époque 70/100, Perte moyenne: 0.000498\n",
      "Époque 80/100, Perte moyenne: 0.000478\n",
      "Époque 90/100, Perte moyenne: 0.000469\n",
      "Époque 100/100, Perte moyenne: 0.000481\n",
      "Entraînement terminé !\n"
     ]
    }
   ],
   "source": [
    "epochs = 100\n",
    "train_losses = []\n",
    "\n",
    "model.train()\n",
    "for epoch in range(epochs):\n",
    "    epoch_loss = 0.0\n",
    "    num_batches = 0\n",
    "    \n",
    "    for batch in dataloader:\n",
    "        batch = batch.to(device)\n",
    "        \n",
    "        # Forward pass\n",
    "        optimizer.zero_grad()\n",
    "        reconstructed = model(batch)\n",
    "        loss = criterion(reconstructed, batch)\n",
    "        \n",
    "        # Backward pass\n",
    "        loss.backward()\n",
    "        optimizer.step()\n",
    "        \n",
    "        epoch_loss += loss.item()\n",
    "        num_batches += 1\n",
    "    \n",
    "    avg_loss = epoch_loss / num_batches\n",
    "    train_losses.append(avg_loss)\n",
    "    \n",
    "    # Afficher la perte toutes les 10 époques\n",
    "    if (epoch + 1) % 10 == 0:\n",
    "        print(f\"Époque {epoch+1}/{epochs}, Perte moyenne: {avg_loss:.6f}\")\n",
    "\n",
    "print(\"Entraînement terminé !\")\n"
   ]
  },
  {
   "cell_type": "code",
   "execution_count": 91,
   "id": "a5cf388e",
   "metadata": {},
   "outputs": [
    {
     "data": {
      "image/png": "[encoded data removed]",
      "text/plain": [
       "<Figure size 1000x600 with 1 Axes>"
      ]
     },
     "metadata": {},
     "output_type": "display_data"
    },
    {
     "name": "stdout",
     "output_type": "stream",
     "text": [
      "Perte finale: 0.000481\n"
     ]
    }
   ],
   "source": [
    "import matplotlib.pyplot as plt\n",
    "\n",
    "plt.figure(figsize=(10, 6))\n",
    "plt.plot(train_losses)\n",
    "plt.title('Évolution de la perte pendant l\\'entraînement')\n",
    "plt.xlabel('Époque')\n",
    "plt.ylabel('Perte (MSE)')\n",
    "plt.grid(True)\n",
    "plt.show()\n",
    "\n",
    "print(f\"Perte finale: {train_losses[-1]:.6f}\")\n"
   ]
  }
 ],
 "metadata": {
  "kernelspec": {
   "display_name": "venv311",
   "language": "python",
   "name": "python3"
  },
  "language_info": {
   "codemirror_mode": {
    "name": "ipython",
    "version": 3
   },
   "file_extension": ".py",
   "mimetype": "text/x-python",
   "name": "python",
   "nbconvert_exporter": "python",
   "pygments_lexer": "ipython3",
   "version": "3.11.9"
  }
 },
 "nbformat": 4,
 "nbformat_minor": 5
}
