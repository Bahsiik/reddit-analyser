{
 "cells": [
  {
   "cell_type": "code",
   "execution_count": 127,
   "id": "initial_id",
   "metadata": {
    "ExecuteTime": {
     "end_time": "2025-06-24T08:50:11.254740Z",
     "start_time": "2025-06-24T08:50:11.249851Z"
    },
    "collapsed": true
   },
   "outputs": [],
   "source": [
    "import pandas as pd\n",
    "from preprocessing.light.text_cleaner_light import TextCleaner\n",
    "from preprocessing.text_tokenizer import TextTokenizer\n",
    "from preprocessing.light.text_lemmatizer_light import TextLemmatizer\n",
    "from preprocessing.light.stopword_remover_light import StopwordRemover\n",
    "import torch\n",
    "import torch.nn as nn\n",
    "from embedding.fasttext import FastText\n",
    "import nltk\n",
    "import os\n",
    "\n",
    "from bs4 import MarkupResemblesLocatorWarning\n",
    "import warnings\n",
    "\n",
    "warnings.filterwarnings(\"ignore\", category=MarkupResemblesLocatorWarning)\n",
    "\n",
    "nltk_dir = 'nltk_data'\n",
    "nltk.data.path.append(os.path.abspath(nltk_dir))"
   ]
  },
  {
   "cell_type": "code",
   "execution_count": 128,
   "id": "69e4eea9a96035ed",
   "metadata": {
    "ExecuteTime": {
     "end_time": "2025-06-24T08:28:28.296479Z",
     "start_time": "2025-06-24T08:28:04.566982Z"
    }
   },
   "outputs": [],
   "source": [
    "df = pd.read_csv('./data/sentiment_data.csv')"
   ]
  },
  {
   "cell_type": "code",
   "execution_count": 129,
   "id": "3770360e1b6aa49e",
   "metadata": {
    "ExecuteTime": {
     "end_time": "2025-06-24T08:28:33.858116Z",
     "start_time": "2025-06-24T08:28:33.840972Z"
    }
   },
   "outputs": [
    {
     "data": {
      "text/html": [
       "<div>\n",
       "<style scoped>\n",
       "    .dataframe tbody tr th:only-of-type {\n",
       "        vertical-align: middle;\n",
       "    }\n",
       "\n",
       "    .dataframe tbody tr th {\n",
       "        vertical-align: top;\n",
       "    }\n",
       "\n",
       "    .dataframe thead th {\n",
       "        text-align: right;\n",
       "    }\n",
       "</style>\n",
       "<table border=\"1\" class=\"dataframe\">\n",
       "  <thead>\n",
       "    <tr style=\"text-align: right;\">\n",
       "      <th></th>\n",
       "      <th>Unnamed: 0</th>\n",
       "      <th>Comment</th>\n",
       "      <th>Sentiment</th>\n",
       "    </tr>\n",
       "  </thead>\n",
       "  <tbody>\n",
       "    <tr>\n",
       "      <th>0</th>\n",
       "      <td>0</td>\n",
       "      <td>lets forget apple pay required brand new iphon...</td>\n",
       "      <td>1</td>\n",
       "    </tr>\n",
       "    <tr>\n",
       "      <th>1</th>\n",
       "      <td>1</td>\n",
       "      <td>nz retailers don’t even contactless credit car...</td>\n",
       "      <td>0</td>\n",
       "    </tr>\n",
       "    <tr>\n",
       "      <th>2</th>\n",
       "      <td>2</td>\n",
       "      <td>forever acknowledge channel help lessons ideas...</td>\n",
       "      <td>2</td>\n",
       "    </tr>\n",
       "    <tr>\n",
       "      <th>3</th>\n",
       "      <td>3</td>\n",
       "      <td>whenever go place doesn’t take apple pay doesn...</td>\n",
       "      <td>0</td>\n",
       "    </tr>\n",
       "    <tr>\n",
       "      <th>4</th>\n",
       "      <td>4</td>\n",
       "      <td>apple pay convenient secure easy use used kore...</td>\n",
       "      <td>2</td>\n",
       "    </tr>\n",
       "  </tbody>\n",
       "</table>\n",
       "</div>"
      ],
      "text/plain": [
       "   Unnamed: 0                                            Comment  Sentiment\n",
       "0           0  lets forget apple pay required brand new iphon...          1\n",
       "1           1  nz retailers don’t even contactless credit car...          0\n",
       "2           2  forever acknowledge channel help lessons ideas...          2\n",
       "3           3  whenever go place doesn’t take apple pay doesn...          0\n",
       "4           4  apple pay convenient secure easy use used kore...          2"
      ]
     },
     "execution_count": 129,
     "metadata": {},
     "output_type": "execute_result"
    }
   ],
   "source": [
    "df.head()"
   ]
  },
  {
   "cell_type": "code",
   "execution_count": 130,
   "id": "9a41bffc",
   "metadata": {},
   "outputs": [
    {
     "data": {
      "text/html": [
       "<div>\n",
       "<style scoped>\n",
       "    .dataframe tbody tr th:only-of-type {\n",
       "        vertical-align: middle;\n",
       "    }\n",
       "\n",
       "    .dataframe tbody tr th {\n",
       "        vertical-align: top;\n",
       "    }\n",
       "\n",
       "    .dataframe thead th {\n",
       "        text-align: right;\n",
       "    }\n",
       "</style>\n",
       "<table border=\"1\" class=\"dataframe\">\n",
       "  <thead>\n",
       "    <tr style=\"text-align: right;\">\n",
       "      <th></th>\n",
       "      <th>Unnamed: 0</th>\n",
       "      <th>Comment</th>\n",
       "      <th>Sentiment</th>\n",
       "    </tr>\n",
       "  </thead>\n",
       "  <tbody>\n",
       "    <tr>\n",
       "      <th>240765</th>\n",
       "      <td>241546</td>\n",
       "      <td>many pakoda sellers need enough pakoda sellers...</td>\n",
       "      <td>2</td>\n",
       "    </tr>\n",
       "    <tr>\n",
       "      <th>67785</th>\n",
       "      <td>68562</td>\n",
       "      <td>raining im outside without umbrella</td>\n",
       "      <td>1</td>\n",
       "    </tr>\n",
       "    <tr>\n",
       "      <th>81893</th>\n",
       "      <td>82671</td>\n",
       "      <td>perfect reasons vote modi prime minister</td>\n",
       "      <td>2</td>\n",
       "    </tr>\n",
       "    <tr>\n",
       "      <th>9805</th>\n",
       "      <td>9835</td>\n",
       "      <td>ewic mukbang promoting small businesses napa s...</td>\n",
       "      <td>2</td>\n",
       "    </tr>\n",
       "    <tr>\n",
       "      <th>160965</th>\n",
       "      <td>161743</td>\n",
       "      <td>looks like authentic see modi haters even powe...</td>\n",
       "      <td>2</td>\n",
       "    </tr>\n",
       "  </tbody>\n",
       "</table>\n",
       "</div>"
      ],
      "text/plain": [
       "        Unnamed: 0                                            Comment  \\\n",
       "240765      241546  many pakoda sellers need enough pakoda sellers...   \n",
       "67785        68562                raining im outside without umbrella   \n",
       "81893        82671           perfect reasons vote modi prime minister   \n",
       "9805          9835  ewic mukbang promoting small businesses napa s...   \n",
       "160965      161743  looks like authentic see modi haters even powe...   \n",
       "\n",
       "        Sentiment  \n",
       "240765          2  \n",
       "67785           1  \n",
       "81893           2  \n",
       "9805            2  \n",
       "160965          2  "
      ]
     },
     "execution_count": 130,
     "metadata": {},
     "output_type": "execute_result"
    }
   ],
   "source": [
    "df_shortened = df.sample(n=1000)\n",
    "df_shortened.head()"
   ]
  },
  {
   "cell_type": "markdown",
   "id": "86050cbb",
   "metadata": {},
   "source": [
    "# Preprocessing"
   ]
  },
  {
   "cell_type": "code",
   "execution_count": 131,
   "id": "87b45ac2b2fa1050",
   "metadata": {
    "ExecuteTime": {
     "end_time": "2025-06-24T08:29:11.076450Z",
     "start_time": "2025-06-24T08:28:35.007707Z"
    }
   },
   "outputs": [
    {
     "data": {
      "text/html": [
       "<div>\n",
       "<style scoped>\n",
       "    .dataframe tbody tr th:only-of-type {\n",
       "        vertical-align: middle;\n",
       "    }\n",
       "\n",
       "    .dataframe tbody tr th {\n",
       "        vertical-align: top;\n",
       "    }\n",
       "\n",
       "    .dataframe thead th {\n",
       "        text-align: right;\n",
       "    }\n",
       "</style>\n",
       "<table border=\"1\" class=\"dataframe\">\n",
       "  <thead>\n",
       "    <tr style=\"text-align: right;\">\n",
       "      <th></th>\n",
       "      <th>Unnamed: 0</th>\n",
       "      <th>Comment</th>\n",
       "      <th>Sentiment</th>\n",
       "    </tr>\n",
       "  </thead>\n",
       "  <tbody>\n",
       "    <tr>\n",
       "      <th>240765</th>\n",
       "      <td>241546</td>\n",
       "      <td>many pakoda sellers need enough pakoda sellers...</td>\n",
       "      <td>2</td>\n",
       "    </tr>\n",
       "    <tr>\n",
       "      <th>67785</th>\n",
       "      <td>68562</td>\n",
       "      <td>raining im outside without umbrella</td>\n",
       "      <td>1</td>\n",
       "    </tr>\n",
       "    <tr>\n",
       "      <th>81893</th>\n",
       "      <td>82671</td>\n",
       "      <td>perfect reasons vote modi prime minister</td>\n",
       "      <td>2</td>\n",
       "    </tr>\n",
       "    <tr>\n",
       "      <th>9805</th>\n",
       "      <td>9835</td>\n",
       "      <td>ewic mukbang promoting small businesses napa s...</td>\n",
       "      <td>2</td>\n",
       "    </tr>\n",
       "    <tr>\n",
       "      <th>160965</th>\n",
       "      <td>161743</td>\n",
       "      <td>looks like authentic see modi haters even powe...</td>\n",
       "      <td>2</td>\n",
       "    </tr>\n",
       "  </tbody>\n",
       "</table>\n",
       "</div>"
      ],
      "text/plain": [
       "        Unnamed: 0                                            Comment  \\\n",
       "240765      241546  many pakoda sellers need enough pakoda sellers...   \n",
       "67785        68562                raining im outside without umbrella   \n",
       "81893        82671           perfect reasons vote modi prime minister   \n",
       "9805          9835  ewic mukbang promoting small businesses napa s...   \n",
       "160965      161743  looks like authentic see modi haters even powe...   \n",
       "\n",
       "        Sentiment  \n",
       "240765          2  \n",
       "67785           1  \n",
       "81893           2  \n",
       "9805            2  \n",
       "160965          2  "
      ]
     },
     "execution_count": 131,
     "metadata": {},
     "output_type": "execute_result"
    }
   ],
   "source": [
    "TextCleaner = TextCleaner()\n",
    "df_cleaned = df_shortened.copy()\n",
    "for index, row in df_shortened.iterrows():\n",
    "    df_cleaned.at[index, 'Comment'] = TextCleaner.clean_text(row['Comment'])\n",
    "\n",
    "df_cleaned.head()"
   ]
  },
  {
   "cell_type": "code",
   "execution_count": 132,
   "id": "8e3e2e02d31a17c3",
   "metadata": {
    "ExecuteTime": {
     "end_time": "2025-06-24T08:29:11.950515Z",
     "start_time": "2025-06-24T08:29:11.935996Z"
    }
   },
   "outputs": [
    {
     "data": {
      "text/html": [
       "<div>\n",
       "<style scoped>\n",
       "    .dataframe tbody tr th:only-of-type {\n",
       "        vertical-align: middle;\n",
       "    }\n",
       "\n",
       "    .dataframe tbody tr th {\n",
       "        vertical-align: top;\n",
       "    }\n",
       "\n",
       "    .dataframe thead th {\n",
       "        text-align: right;\n",
       "    }\n",
       "</style>\n",
       "<table border=\"1\" class=\"dataframe\">\n",
       "  <thead>\n",
       "    <tr style=\"text-align: right;\">\n",
       "      <th></th>\n",
       "      <th>Unnamed: 0</th>\n",
       "      <th>Comment</th>\n",
       "      <th>Sentiment</th>\n",
       "    </tr>\n",
       "  </thead>\n",
       "  <tbody>\n",
       "    <tr>\n",
       "      <th>240765</th>\n",
       "      <td>241546</td>\n",
       "      <td>[many, pakoda, sellers, need, enough, pakoda, ...</td>\n",
       "      <td>2</td>\n",
       "    </tr>\n",
       "    <tr>\n",
       "      <th>67785</th>\n",
       "      <td>68562</td>\n",
       "      <td>[raining, im, outside, without, umbrella]</td>\n",
       "      <td>1</td>\n",
       "    </tr>\n",
       "    <tr>\n",
       "      <th>81893</th>\n",
       "      <td>82671</td>\n",
       "      <td>[perfect, reasons, vote, modi, prime, minister]</td>\n",
       "      <td>2</td>\n",
       "    </tr>\n",
       "    <tr>\n",
       "      <th>9805</th>\n",
       "      <td>9835</td>\n",
       "      <td>[ewic, mukbang, promoting, small, businesses, ...</td>\n",
       "      <td>2</td>\n",
       "    </tr>\n",
       "    <tr>\n",
       "      <th>160965</th>\n",
       "      <td>161743</td>\n",
       "      <td>[looks, like, authentic, see, modi, haters, ev...</td>\n",
       "      <td>2</td>\n",
       "    </tr>\n",
       "  </tbody>\n",
       "</table>\n",
       "</div>"
      ],
      "text/plain": [
       "        Unnamed: 0                                            Comment  \\\n",
       "240765      241546  [many, pakoda, sellers, need, enough, pakoda, ...   \n",
       "67785        68562          [raining, im, outside, without, umbrella]   \n",
       "81893        82671    [perfect, reasons, vote, modi, prime, minister]   \n",
       "9805          9835  [ewic, mukbang, promoting, small, businesses, ...   \n",
       "160965      161743  [looks, like, authentic, see, modi, haters, ev...   \n",
       "\n",
       "        Sentiment  \n",
       "240765          2  \n",
       "67785           1  \n",
       "81893           2  \n",
       "9805            2  \n",
       "160965          2  "
      ]
     },
     "execution_count": 132,
     "metadata": {},
     "output_type": "execute_result"
    }
   ],
   "source": [
    "TextTokenizer = TextTokenizer()\n",
    "df_tokenised = df_cleaned.copy()\n",
    "for index, row in df_cleaned.iterrows():\n",
    "    df_tokenised.at[index, 'Comment'] = TextTokenizer.tokenize(row['Comment'])\n",
    "\n",
    "df_tokenised.head()"
   ]
  },
  {
   "cell_type": "code",
   "execution_count": 133,
   "id": "a451f12ba3aed5dc",
   "metadata": {
    "ExecuteTime": {
     "end_time": "2025-06-24T08:29:12.089239Z",
     "start_time": "2025-06-24T08:29:12.070247Z"
    }
   },
   "outputs": [
    {
     "data": {
      "text/html": [
       "<div>\n",
       "<style scoped>\n",
       "    .dataframe tbody tr th:only-of-type {\n",
       "        vertical-align: middle;\n",
       "    }\n",
       "\n",
       "    .dataframe tbody tr th {\n",
       "        vertical-align: top;\n",
       "    }\n",
       "\n",
       "    .dataframe thead th {\n",
       "        text-align: right;\n",
       "    }\n",
       "</style>\n",
       "<table border=\"1\" class=\"dataframe\">\n",
       "  <thead>\n",
       "    <tr style=\"text-align: right;\">\n",
       "      <th></th>\n",
       "      <th>Unnamed: 0</th>\n",
       "      <th>Comment</th>\n",
       "      <th>Sentiment</th>\n",
       "    </tr>\n",
       "  </thead>\n",
       "  <tbody>\n",
       "    <tr>\n",
       "      <th>240765</th>\n",
       "      <td>241546</td>\n",
       "      <td>[many, pakoda, sellers, need, enough, pakoda, ...</td>\n",
       "      <td>2</td>\n",
       "    </tr>\n",
       "    <tr>\n",
       "      <th>67785</th>\n",
       "      <td>68562</td>\n",
       "      <td>[raining, im, outside, without, umbrella]</td>\n",
       "      <td>1</td>\n",
       "    </tr>\n",
       "    <tr>\n",
       "      <th>81893</th>\n",
       "      <td>82671</td>\n",
       "      <td>[perfect, reasons, vote, modi, prime, minister]</td>\n",
       "      <td>2</td>\n",
       "    </tr>\n",
       "    <tr>\n",
       "      <th>9805</th>\n",
       "      <td>9835</td>\n",
       "      <td>[ewic, mukbang, promoting, small, businesses, ...</td>\n",
       "      <td>2</td>\n",
       "    </tr>\n",
       "    <tr>\n",
       "      <th>160965</th>\n",
       "      <td>161743</td>\n",
       "      <td>[looks, like, authentic, see, modi, haters, ev...</td>\n",
       "      <td>2</td>\n",
       "    </tr>\n",
       "  </tbody>\n",
       "</table>\n",
       "</div>"
      ],
      "text/plain": [
       "        Unnamed: 0                                            Comment  \\\n",
       "240765      241546  [many, pakoda, sellers, need, enough, pakoda, ...   \n",
       "67785        68562          [raining, im, outside, without, umbrella]   \n",
       "81893        82671    [perfect, reasons, vote, modi, prime, minister]   \n",
       "9805          9835  [ewic, mukbang, promoting, small, businesses, ...   \n",
       "160965      161743  [looks, like, authentic, see, modi, haters, ev...   \n",
       "\n",
       "        Sentiment  \n",
       "240765          2  \n",
       "67785           1  \n",
       "81893           2  \n",
       "9805            2  \n",
       "160965          2  "
      ]
     },
     "execution_count": 133,
     "metadata": {},
     "output_type": "execute_result"
    }
   ],
   "source": [
    "StopwordRemover = StopwordRemover()\n",
    "df_stopwords_removed = df_tokenised.copy()\n",
    "for index, row in df_tokenised.iterrows():\n",
    "    df_stopwords_removed.at[index, 'Comment'] = StopwordRemover.remove_stopwords(row['Comment'])\n",
    "\n",
    "df_stopwords_removed.head()"
   ]
  },
  {
   "cell_type": "code",
   "execution_count": 134,
   "id": "ff52b799a0db5683",
   "metadata": {
    "ExecuteTime": {
     "end_time": "2025-06-24T08:29:16.611169Z",
     "start_time": "2025-06-24T08:29:12.198121Z"
    }
   },
   "outputs": [
    {
     "data": {
      "text/html": [
       "<div>\n",
       "<style scoped>\n",
       "    .dataframe tbody tr th:only-of-type {\n",
       "        vertical-align: middle;\n",
       "    }\n",
       "\n",
       "    .dataframe tbody tr th {\n",
       "        vertical-align: top;\n",
       "    }\n",
       "\n",
       "    .dataframe thead th {\n",
       "        text-align: right;\n",
       "    }\n",
       "</style>\n",
       "<table border=\"1\" class=\"dataframe\">\n",
       "  <thead>\n",
       "    <tr style=\"text-align: right;\">\n",
       "      <th></th>\n",
       "      <th>Unnamed: 0</th>\n",
       "      <th>Comment</th>\n",
       "      <th>Sentiment</th>\n",
       "    </tr>\n",
       "  </thead>\n",
       "  <tbody>\n",
       "    <tr>\n",
       "      <th>240765</th>\n",
       "      <td>241546</td>\n",
       "      <td>[many, pakoda, selers, ned, enough, pakoda, se...</td>\n",
       "      <td>2</td>\n",
       "    </tr>\n",
       "    <tr>\n",
       "      <th>67785</th>\n",
       "      <td>68562</td>\n",
       "      <td>[rain, im, outside, without, umbrela]</td>\n",
       "      <td>1</td>\n",
       "    </tr>\n",
       "    <tr>\n",
       "      <th>81893</th>\n",
       "      <td>82671</td>\n",
       "      <td>[perfect, reason, vote, modi, prime, minister]</td>\n",
       "      <td>2</td>\n",
       "    </tr>\n",
       "    <tr>\n",
       "      <th>9805</th>\n",
       "      <td>9835</td>\n",
       "      <td>[ewic, mukbang, promote, smal, busineses, napa...</td>\n",
       "      <td>2</td>\n",
       "    </tr>\n",
       "    <tr>\n",
       "      <th>160965</th>\n",
       "      <td>161743</td>\n",
       "      <td>[loks, like, authentic, see, modi, hater, even...</td>\n",
       "      <td>2</td>\n",
       "    </tr>\n",
       "  </tbody>\n",
       "</table>\n",
       "</div>"
      ],
      "text/plain": [
       "        Unnamed: 0                                            Comment  \\\n",
       "240765      241546  [many, pakoda, selers, ned, enough, pakoda, se...   \n",
       "67785        68562              [rain, im, outside, without, umbrela]   \n",
       "81893        82671     [perfect, reason, vote, modi, prime, minister]   \n",
       "9805          9835  [ewic, mukbang, promote, smal, busineses, napa...   \n",
       "160965      161743  [loks, like, authentic, see, modi, hater, even...   \n",
       "\n",
       "        Sentiment  \n",
       "240765          2  \n",
       "67785           1  \n",
       "81893           2  \n",
       "9805            2  \n",
       "160965          2  "
      ]
     },
     "execution_count": 134,
     "metadata": {},
     "output_type": "execute_result"
    }
   ],
   "source": [
    "TextLemmatizer = TextLemmatizer()\n",
    "df_lemmatised = df_stopwords_removed.copy()\n",
    "for index, row in df_stopwords_removed.iterrows():\n",
    "    df_lemmatised.at[index, 'Comment'] = TextLemmatizer.lemmatize(row['Comment'])\n",
    "\n",
    "df_lemmatised.head()"
   ]
  },
  {
   "cell_type": "code",
   "execution_count": 135,
   "id": "23dd62c2",
   "metadata": {},
   "outputs": [
    {
     "name": "stdout",
     "output_type": "stream",
     "text": [
      "Number of empty comments: 1\n",
      "\n",
      "Empty comments found at indices:\n",
      "[45425]\n",
      "Number of empty comments: 0\n"
     ]
    }
   ],
   "source": [
    "empty_comments = df_lemmatised[df_lemmatised['Comment'].apply(lambda x: len(x) == 0)]\n",
    "print(\"Number of empty comments:\", len(empty_comments))\n",
    "\n",
    "if len(empty_comments) > 0:\n",
    "\tprint(\"\\nEmpty comments found at indices:\")\n",
    "\tprint(empty_comments.index.tolist())\n",
    "\n",
    "df_lemmatised = df_lemmatised[df_lemmatised['Comment'].apply(lambda x: len(x) > 0)]\n",
    "\n",
    "empty_comments = df_lemmatised[df_lemmatised['Comment'].apply(lambda x: len(x) == 0)]\n",
    "print(\"Number of empty comments:\", len(empty_comments))\n",
    "\n",
    "if len(empty_comments) > 0:\n",
    "\tprint(\"\\nEmpty comments found at indices:\")"
   ]
  },
  {
   "cell_type": "code",
   "execution_count": 136,
   "id": "59ea98b35f234f86",
   "metadata": {
    "ExecuteTime": {
     "end_time": "2025-06-24T08:29:19.823487Z",
     "start_time": "2025-06-24T08:29:19.781084Z"
    }
   },
   "outputs": [
    {
     "name": "stdout",
     "output_type": "stream",
     "text": [
      "Vocabulary size: 4520\n",
      "Sample tokens: ['<PAD>', '<UNK>', 'restrict', 'scream', 'indiathey', 'nepal', 'tibetel', 'constructive', 'clock', 'fast']\n"
     ]
    }
   ],
   "source": [
    "all_tokens = []\n",
    "for index, row in df_lemmatised.iterrows():\n",
    "\tall_tokens.extend(row['Comment'])\n",
    "\n",
    "vocab = set(all_tokens)\n",
    "vocab_to_idx = {'<PAD>': 0, '<UNK>': 1}\n",
    "for token in vocab:\n",
    "\tvocab_to_idx[token] = len(vocab_to_idx)\n",
    "\n",
    "idx_to_vocab = {idx: token for token, idx in vocab_to_idx.items()}\n",
    "\n",
    "print(f\"Vocabulary size: {len(vocab_to_idx)}\")\n",
    "print(\"Sample tokens:\", list(vocab_to_idx.keys())[:10])"
   ]
  },
  {
   "cell_type": "code",
   "execution_count": 137,
   "id": "82f2f75b0379d5e4",
   "metadata": {
    "ExecuteTime": {
     "end_time": "2025-06-24T08:50:40.053268Z",
     "start_time": "2025-06-24T08:50:40.032384Z"
    }
   },
   "outputs": [],
   "source": [
    "def tokens_to_indices(tokens, vocab_to_idx):\n",
    "\treturn [vocab_to_idx.get(token, vocab_to_idx['<UNK>']) for token in tokens]\n",
    "\n",
    "df_indices = df_lemmatised.copy()\n",
    "for index, row in df_lemmatised.iterrows():\n",
    "\tdf_indices.at[index, 'Comment'] = tokens_to_indices(row['Comment'], vocab_to_idx)"
   ]
  },
  {
   "cell_type": "code",
   "execution_count": 138,
   "id": "fff9fea1",
   "metadata": {},
   "outputs": [
    {
     "name": "stdout",
     "output_type": "stream",
     "text": [
      "Max sequence length: 65\n",
      "Average sequence length: 12.95\n",
      "Chosen max length (95th percentile): 27\n",
      "Padded sequences shape: 999 x 27\n"
     ]
    }
   ],
   "source": [
    "def pad_sequences(sequences, max_len, pad_value=0):\n",
    "\tpadded = []\n",
    "\tfor seq in sequences:\n",
    "\t\tif len(seq) > max_len:\n",
    "\t\t\tpadded.append(seq[:max_len])\n",
    "\t\telse:\n",
    "\t\t\tpadded.append(seq + [pad_value] * (max_len - len(seq)))\n",
    "\treturn padded\n",
    "\n",
    "sequence_lengths = [len(seq) for seq in df_indices['Comment']]\n",
    "max_len = max(sequence_lengths)\n",
    "avg_len = sum(sequence_lengths) / len(sequence_lengths)\n",
    "\n",
    "print(f\"Max sequence length: {max_len}\")\n",
    "print(f\"Average sequence length: {avg_len:.2f}\")\n",
    "\n",
    "import numpy as np\n",
    "chosen_max_len = int(np.percentile(sequence_lengths, 95))\n",
    "print(f\"Chosen max length (95th percentile): {chosen_max_len}\")\n",
    "\n",
    "padded_sequences = pad_sequences(df_indices['Comment'].tolist(), chosen_max_len, vocab_to_idx['<PAD>'])\n",
    "\n",
    "print(f\"Padded sequences shape: {len(padded_sequences)} x {len(padded_sequences[0])}\")"
   ]
  },
  {
   "cell_type": "code",
   "execution_count": 139,
   "id": "fde14bbc",
   "metadata": {},
   "outputs": [
    {
     "name": "stdout",
     "output_type": "stream",
     "text": [
      "X shape: torch.Size([999, 27])\n",
      "y shape: torch.Size([999])\n",
      "Number of classes: 3\n",
      "Classes distribution: tensor([245, 334, 420])\n",
      "Training set: X_train torch.Size([799, 27]), y_train torch.Size([799])\n",
      "Validation set: X_val torch.Size([200, 27]), y_val torch.Size([200])\n"
     ]
    }
   ],
   "source": [
    "from sklearn.model_selection import train_test_split\n",
    "\n",
    "X = torch.tensor(padded_sequences, dtype=torch.long)\n",
    "y = torch.tensor(df_indices['Sentiment'].values, dtype=torch.long)\n",
    "\n",
    "print(f\"X shape: {X.shape}\")\n",
    "print(f\"y shape: {y.shape}\")\n",
    "print(f\"Number of classes: {len(torch.unique(y))}\")\n",
    "print(f\"Classes distribution: {torch.bincount(y)}\")\n",
    "\n",
    "X_train, X_val, y_train, y_val = train_test_split(X, y, test_size=0.2, random_state=42, stratify=y)\n",
    "\n",
    "print(f\"Training set: X_train {X_train.shape}, y_train {y_train.shape}\")\n",
    "print(f\"Validation set: X_val {X_val.shape}, y_val {y_val.shape}\")"
   ]
  },
  {
   "cell_type": "markdown",
   "id": "debe8a0e",
   "metadata": {},
   "source": [
    "# RNN Architecture (From Scratch)\n"
   ]
  },
  {
   "cell_type": "code",
   "execution_count": 140,
   "id": "6cfe6a1a",
   "metadata": {},
   "outputs": [],
   "source": [
    "import torch\n",
    "import torch.nn as nn\n",
    "\n",
    "class SimpleRNN(nn.Module):\n",
    "    def __init__(self, input_size, hidden_size, output_size):\n",
    "        super().__init__()\n",
    "        \n",
    "        self.input_size = input_size\n",
    "        self.hidden_size = hidden_size\n",
    "        self.output_size = output_size\n",
    "\n",
    "        #  Poids pour l'entrée\n",
    "        self.W_xh = nn.Parameter(torch.randn(input_size, hidden_size))\n",
    "\n",
    "        # Poids pour l'état caché\n",
    "        self.W_hh = nn.Parameter(torch.randn(hidden_size, hidden_size)) # W_hh = W_hh^T\n",
    "\n",
    "        # Biais\n",
    "        self.b_h = nn.Parameter(torch.zeros(hidden_size))\n",
    "\n",
    "        # Couche de sortie\n",
    "        self.fc = nn.Linear(hidden_size, output_size)\n",
    "        \n",
    "\n",
    "    def forward(self, x):\n",
    "        batch_size, seq_len, _ = x.size()\n",
    "\n",
    "        h_t = torch.zeros(batch_size, self.hidden_size)\n",
    "\n",
    "        for t in range(seq_len):\n",
    "            x_t = x[:, t, :]\n",
    "            h_t = torch.tanh(x_t @ self.W_xh + h_t @ self.W_hh + self.b_h)\n",
    "\n",
    "        output = self.fc(h_t)\n",
    "        return output"
   ]
  },
  {
   "cell_type": "code",
   "execution_count": 141,
   "id": "726b9a05",
   "metadata": {},
   "outputs": [],
   "source": [
    "class SentimentRNN(nn.Module):\n",
    "\tdef __init__(self, vocab_size, input_size, hidden_size, num_classes):\n",
    "\t\tsuper(SentimentRNN, self).__init__()\n",
    "\t\tself.hidden_size = hidden_size\n",
    "\t\t\n",
    "\t\t# Couche d'embedding\n",
    "\t\tself.embedding = nn.Embedding(vocab_size, input_size)\n",
    "\t\t\n",
    "\t\t# RNN simple\n",
    "\t\tself.rnn = SimpleRNN(input_size, hidden_size, num_classes)\n",
    "\t\t\n",
    "\tdef forward(self, x):\n",
    "\t\tembedded = self.embedding(x)\n",
    "\t\t\n",
    "\t\toutput = self.rnn(embedded)\n",
    "\t\t\n",
    "\t\treturn output\n",
    "\n",
    "# Paramètres du modèle\n",
    "vocab_size = len(vocab_to_idx)\n",
    "input_size = 64\n",
    "hidden_size = 32\n",
    "num_classes = 3\n",
    "\n",
    "model = SentimentRNN(vocab_size, input_size, hidden_size, num_classes)"
   ]
  },
  {
   "cell_type": "markdown",
   "id": "cb34431d",
   "metadata": {},
   "source": [
    "# Training\n"
   ]
  },
  {
   "cell_type": "code",
   "execution_count": 142,
   "id": "788e9cda",
   "metadata": {},
   "outputs": [],
   "source": [
    "import torch.optim as optim\n",
    "from torch.utils.data import DataLoader, TensorDataset\n",
    "from sklearn.metrics import accuracy_score, classification_report\n",
    "\n",
    "learning_rate = 0.001\n",
    "batch_size = 32\n",
    "num_epochs = 20\n",
    "\n",
    "criterion = nn.CrossEntropyLoss()\n",
    "optimizer = optim.Adam(model.parameters(), lr=learning_rate)\n",
    "\n",
    "train_dataset = TensorDataset(X_train, y_train)\n",
    "val_dataset = TensorDataset(X_val, y_val)\n",
    "\n",
    "train_loader = DataLoader(train_dataset, batch_size=batch_size, shuffle=True)\n",
    "val_loader = DataLoader(val_dataset, batch_size=batch_size, shuffle=False)"
   ]
  },
  {
   "cell_type": "code",
   "execution_count": 143,
   "id": "d533ae31",
   "metadata": {},
   "outputs": [],
   "source": [
    "def train_epoch(model, train_loader, criterion, optimizer):\n",
    "\tmodel.train()\n",
    "\ttotal_loss = 0\n",
    "\ttotal_correct = 0\n",
    "\ttotal_samples = 0\n",
    "\t\n",
    "\tfor batch_idx, (data, target) in enumerate(train_loader):\n",
    "\t\toptimizer.zero_grad()\n",
    "\t\t\n",
    "\t\t# Forward pass\n",
    "\t\toutput = model(data)\n",
    "\t\tloss = criterion(output, target)\n",
    "\t\t\n",
    "\t\t# Backward pass\n",
    "\t\tloss.backward()\n",
    "\t\toptimizer.step()\n",
    "\t\t\n",
    "\t\t# Statistiques\n",
    "\t\ttotal_loss += loss.item()\n",
    "\t\tpred = output.argmax(dim=1)\n",
    "\t\ttotal_correct += (pred == target).sum().item()\n",
    "\t\ttotal_samples += target.size(0)\n",
    "\t\n",
    "\tavg_loss = total_loss / len(train_loader)\n",
    "\taccuracy = total_correct / total_samples\n",
    "\treturn avg_loss, accuracy\n",
    "\n",
    "def validate_epoch(model, val_loader, criterion):\n",
    "\tmodel.eval()\n",
    "\ttotal_loss = 0\n",
    "\ttotal_correct = 0\n",
    "\ttotal_samples = 0\n",
    "\t\n",
    "\twith torch.no_grad():\n",
    "\t\tfor data, target in val_loader:\n",
    "\t\t\toutput = model(data)\n",
    "\t\t\tloss = criterion(output, target)\n",
    "\t\t\t\n",
    "\t\t\ttotal_loss += loss.item()\n",
    "\t\t\tpred = output.argmax(dim=1)\n",
    "\t\t\ttotal_correct += (pred == target).sum().item()\n",
    "\t\t\ttotal_samples += target.size(0)\n",
    "\t\n",
    "\tavg_loss = total_loss / len(val_loader)\n",
    "\taccuracy = total_correct / total_samples\n",
    "\treturn avg_loss, accuracy\n"
   ]
  },
  {
   "cell_type": "code",
   "execution_count": 144,
   "id": "d45e3a6e",
   "metadata": {},
   "outputs": [
    {
     "name": "stdout",
     "output_type": "stream",
     "text": [
      "Début de l'entraînement...\n",
      "==================================================\n",
      "Époque [ 1/20] | Train Loss: 1.0818 | Train Acc: 0.3692 | Val Loss: 1.0752 | Val Acc: 0.4050\n",
      "Époque [ 5/20] | Train Loss: 1.0596 | Train Acc: 0.4406 | Val Loss: 1.0764 | Val Acc: 0.3950\n",
      "Époque [10/20] | Train Loss: 1.0491 | Train Acc: 0.4305 | Val Loss: 1.0854 | Val Acc: 0.4100\n",
      "Époque [15/20] | Train Loss: 1.0460 | Train Acc: 0.4593 | Val Loss: 1.0791 | Val Acc: 0.3900\n",
      "Époque [20/20] | Train Loss: 1.0358 | Train Acc: 0.4355 | Val Loss: 1.0823 | Val Acc: 0.4050\n",
      "==================================================\n",
      "Entraînement terminé!\n"
     ]
    }
   ],
   "source": [
    "import matplotlib.pyplot as plt\n",
    "\n",
    "train_losses = []\n",
    "train_accuracies = []\n",
    "val_losses = []\n",
    "val_accuracies = []\n",
    "\n",
    "for epoch in range(num_epochs):\n",
    "\ttrain_loss, train_acc = train_epoch(model, train_loader, criterion, optimizer)\n",
    "\t\n",
    "\tval_loss, val_acc = validate_epoch(model, val_loader, criterion)\n",
    "\t\n",
    "\ttrain_losses.append(train_loss)\n",
    "\ttrain_accuracies.append(train_acc)\n",
    "\tval_losses.append(val_loss)\n",
    "\tval_accuracies.append(val_acc)\n",
    "\t\n",
    "\tif (epoch + 1) % 5 == 0 or epoch == 0:\n",
    "\t\tprint(f\"Époque [{epoch+1:2d}/{num_epochs}] | \"\n",
    "\t\t\t  f\"Train Loss: {train_loss:.4f} | Train Acc: {train_acc:.4f} | \"\n",
    "\t\t\t  f\"Val Loss: {val_loss:.4f} | Val Acc: {val_acc:.4f}\")\n",
    "\n",
    "print(\"Entraînement terminé!\")"
   ]
  },
  {
   "cell_type": "code",
   "execution_count": 145,
   "id": "bb14e742",
   "metadata": {},
   "outputs": [
    {
     "data": {
      "image/png": "[encoded data removed]",
      "text/plain": [
       "<Figure size 1500x500 with 2 Axes>"
      ]
     },
     "metadata": {},
     "output_type": "display_data"
    }
   ],
   "source": [
    "# Visualisation des courbes d'entraînement\n",
    "plt.figure(figsize=(15, 5))\n",
    "\n",
    "# Courbes de perte\n",
    "plt.subplot(1, 2, 1)\n",
    "plt.plot(range(1, num_epochs + 1), train_losses, 'b-', label='Loss d\\'entraînement')\n",
    "plt.plot(range(1, num_epochs + 1), val_losses, 'r-', label='Loss de validation')\n",
    "plt.title('Loss d\\'entraînement vs Validation')\n",
    "plt.xlabel('Époque')\n",
    "plt.ylabel('Loss')\n",
    "plt.legend()\n",
    "plt.grid(True)\n",
    "\n",
    "# Courbes de précision\n",
    "plt.subplot(1, 2, 2)\n",
    "plt.plot(range(1, num_epochs + 1), train_accuracies, 'b-', label='Précision d\\'entraînement')\n",
    "plt.plot(range(1, num_epochs + 1), val_accuracies, 'r-', label='Précision de validation')\n",
    "plt.title('Précision d\\'entraînement vs Validation')\n",
    "plt.xlabel('Époque')\n",
    "plt.ylabel('Précision')\n",
    "plt.legend()\n",
    "plt.grid(True)\n",
    "\n",
    "plt.tight_layout()\n",
    "plt.show()"
   ]
  }
 ],
 "metadata": {
  "kernelspec": {
   "display_name": "env311",
   "language": "python",
   "name": "python3"
  },
  "language_info": {
   "codemirror_mode": {
    "name": "ipython",
    "version": 3
   },
   "file_extension": ".py",
   "mimetype": "text/x-python",
   "name": "python",
   "nbconvert_exporter": "python",
   "pygments_lexer": "ipython3",
   "version": "3.11.9"
  }
 },
 "nbformat": 4,
 "nbformat_minor": 5
}
