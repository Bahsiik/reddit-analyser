{
 "cells": [
  {
   "cell_type": "code",
   "execution_count": 238,
   "id": "initial_id",
   "metadata": {
    "ExecuteTime": {
     "end_time": "2025-06-24T08:50:11.254740Z",
     "start_time": "2025-06-24T08:50:11.249851Z"
    },
    "collapsed": true
   },
   "outputs": [],
   "source": [
    "import pandas as pd\n",
    "from preprocessing.light.text_cleaner_light import TextCleaner\n",
    "from preprocessing.text_tokenizer import TextTokenizer\n",
    "from preprocessing.light.text_lemmatizer_light import TextLemmatizer\n",
    "from preprocessing.light.stopword_remover_light import StopwordRemover\n",
    "import torch\n",
    "import torch.nn as nn\n",
    "from embedding.fasttext import FastText\n",
    "import nltk\n",
    "import os\n",
    "\n",
    "from bs4 import MarkupResemblesLocatorWarning\n",
    "import warnings\n",
    "\n",
    "warnings.filterwarnings(\"ignore\", category=MarkupResemblesLocatorWarning)\n",
    "\n",
    "nltk_dir = 'nltk_data'\n",
    "nltk.data.path.append(os.path.abspath(nltk_dir))"
   ]
  },
  {
   "cell_type": "code",
   "execution_count": 239,
   "id": "69e4eea9a96035ed",
   "metadata": {
    "ExecuteTime": {
     "end_time": "2025-06-24T08:28:28.296479Z",
     "start_time": "2025-06-24T08:28:04.566982Z"
    }
   },
   "outputs": [],
   "source": [
    "df = pd.read_csv('./data/sentiment_data.csv')"
   ]
  },
  {
   "cell_type": "code",
   "execution_count": 240,
   "id": "3770360e1b6aa49e",
   "metadata": {
    "ExecuteTime": {
     "end_time": "2025-06-24T08:28:33.858116Z",
     "start_time": "2025-06-24T08:28:33.840972Z"
    }
   },
   "outputs": [
    {
     "data": {
      "text/html": [
       "<div>\n",
       "<style scoped>\n",
       "    .dataframe tbody tr th:only-of-type {\n",
       "        vertical-align: middle;\n",
       "    }\n",
       "\n",
       "    .dataframe tbody tr th {\n",
       "        vertical-align: top;\n",
       "    }\n",
       "\n",
       "    .dataframe thead th {\n",
       "        text-align: right;\n",
       "    }\n",
       "</style>\n",
       "<table border=\"1\" class=\"dataframe\">\n",
       "  <thead>\n",
       "    <tr style=\"text-align: right;\">\n",
       "      <th></th>\n",
       "      <th>Unnamed: 0</th>\n",
       "      <th>Comment</th>\n",
       "      <th>Sentiment</th>\n",
       "    </tr>\n",
       "  </thead>\n",
       "  <tbody>\n",
       "    <tr>\n",
       "      <th>0</th>\n",
       "      <td>0</td>\n",
       "      <td>lets forget apple pay required brand new iphon...</td>\n",
       "      <td>1</td>\n",
       "    </tr>\n",
       "    <tr>\n",
       "      <th>1</th>\n",
       "      <td>1</td>\n",
       "      <td>nz retailers don’t even contactless credit car...</td>\n",
       "      <td>0</td>\n",
       "    </tr>\n",
       "    <tr>\n",
       "      <th>2</th>\n",
       "      <td>2</td>\n",
       "      <td>forever acknowledge channel help lessons ideas...</td>\n",
       "      <td>2</td>\n",
       "    </tr>\n",
       "    <tr>\n",
       "      <th>3</th>\n",
       "      <td>3</td>\n",
       "      <td>whenever go place doesn’t take apple pay doesn...</td>\n",
       "      <td>0</td>\n",
       "    </tr>\n",
       "    <tr>\n",
       "      <th>4</th>\n",
       "      <td>4</td>\n",
       "      <td>apple pay convenient secure easy use used kore...</td>\n",
       "      <td>2</td>\n",
       "    </tr>\n",
       "  </tbody>\n",
       "</table>\n",
       "</div>"
      ],
      "text/plain": [
       "   Unnamed: 0                                            Comment  Sentiment\n",
       "0           0  lets forget apple pay required brand new iphon...          1\n",
       "1           1  nz retailers don’t even contactless credit car...          0\n",
       "2           2  forever acknowledge channel help lessons ideas...          2\n",
       "3           3  whenever go place doesn’t take apple pay doesn...          0\n",
       "4           4  apple pay convenient secure easy use used kore...          2"
      ]
     },
     "execution_count": 240,
     "metadata": {},
     "output_type": "execute_result"
    }
   ],
   "source": [
    "df.head()"
   ]
  },
  {
   "cell_type": "code",
   "execution_count": 241,
   "id": "9a41bffc",
   "metadata": {},
   "outputs": [
    {
     "data": {
      "text/html": [
       "<div>\n",
       "<style scoped>\n",
       "    .dataframe tbody tr th:only-of-type {\n",
       "        vertical-align: middle;\n",
       "    }\n",
       "\n",
       "    .dataframe tbody tr th {\n",
       "        vertical-align: top;\n",
       "    }\n",
       "\n",
       "    .dataframe thead th {\n",
       "        text-align: right;\n",
       "    }\n",
       "</style>\n",
       "<table border=\"1\" class=\"dataframe\">\n",
       "  <thead>\n",
       "    <tr style=\"text-align: right;\">\n",
       "      <th></th>\n",
       "      <th>Unnamed: 0</th>\n",
       "      <th>Comment</th>\n",
       "      <th>Sentiment</th>\n",
       "    </tr>\n",
       "  </thead>\n",
       "  <tbody>\n",
       "    <tr>\n",
       "      <th>34328</th>\n",
       "      <td>35105</td>\n",
       "      <td>use external track ball laptop seems excessive...</td>\n",
       "      <td>2</td>\n",
       "    </tr>\n",
       "    <tr>\n",
       "      <th>91929</th>\n",
       "      <td>92707</td>\n",
       "      <td>modi completely unnerved announcement hence hy...</td>\n",
       "      <td>0</td>\n",
       "    </tr>\n",
       "    <tr>\n",
       "      <th>234076</th>\n",
       "      <td>234854</td>\n",
       "      <td>renewed resolve modi taken nation farwith shar...</td>\n",
       "      <td>2</td>\n",
       "    </tr>\n",
       "    <tr>\n",
       "      <th>61582</th>\n",
       "      <td>62359</td>\n",
       "      <td>trickery exasperation seeing pride hijacked po...</td>\n",
       "      <td>0</td>\n",
       "    </tr>\n",
       "    <tr>\n",
       "      <th>132481</th>\n",
       "      <td>133259</td>\n",
       "      <td>test domestically prime minister narendra modi...</td>\n",
       "      <td>2</td>\n",
       "    </tr>\n",
       "  </tbody>\n",
       "</table>\n",
       "</div>"
      ],
      "text/plain": [
       "        Unnamed: 0                                            Comment  \\\n",
       "34328        35105  use external track ball laptop seems excessive...   \n",
       "91929        92707  modi completely unnerved announcement hence hy...   \n",
       "234076      234854  renewed resolve modi taken nation farwith shar...   \n",
       "61582        62359  trickery exasperation seeing pride hijacked po...   \n",
       "132481      133259  test domestically prime minister narendra modi...   \n",
       "\n",
       "        Sentiment  \n",
       "34328           2  \n",
       "91929           0  \n",
       "234076          2  \n",
       "61582           0  \n",
       "132481          2  "
      ]
     },
     "execution_count": 241,
     "metadata": {},
     "output_type": "execute_result"
    }
   ],
   "source": [
    "df_shortened = df.sample(n=20000)\n",
    "df_shortened.head()"
   ]
  },
  {
   "cell_type": "markdown",
   "id": "86050cbb",
   "metadata": {},
   "source": [
    "# Preprocessing"
   ]
  },
  {
   "cell_type": "code",
   "execution_count": 242,
   "id": "87b45ac2b2fa1050",
   "metadata": {
    "ExecuteTime": {
     "end_time": "2025-06-24T08:29:11.076450Z",
     "start_time": "2025-06-24T08:28:35.007707Z"
    }
   },
   "outputs": [
    {
     "data": {
      "text/html": [
       "<div>\n",
       "<style scoped>\n",
       "    .dataframe tbody tr th:only-of-type {\n",
       "        vertical-align: middle;\n",
       "    }\n",
       "\n",
       "    .dataframe tbody tr th {\n",
       "        vertical-align: top;\n",
       "    }\n",
       "\n",
       "    .dataframe thead th {\n",
       "        text-align: right;\n",
       "    }\n",
       "</style>\n",
       "<table border=\"1\" class=\"dataframe\">\n",
       "  <thead>\n",
       "    <tr style=\"text-align: right;\">\n",
       "      <th></th>\n",
       "      <th>Unnamed: 0</th>\n",
       "      <th>Comment</th>\n",
       "      <th>Sentiment</th>\n",
       "    </tr>\n",
       "  </thead>\n",
       "  <tbody>\n",
       "    <tr>\n",
       "      <th>34328</th>\n",
       "      <td>35105</td>\n",
       "      <td>use external track ball laptop seems excessive...</td>\n",
       "      <td>2</td>\n",
       "    </tr>\n",
       "    <tr>\n",
       "      <th>91929</th>\n",
       "      <td>92707</td>\n",
       "      <td>modi completely unnerved announcement hence hy...</td>\n",
       "      <td>0</td>\n",
       "    </tr>\n",
       "    <tr>\n",
       "      <th>234076</th>\n",
       "      <td>234854</td>\n",
       "      <td>renewed resolve modi taken nation farwith shar...</td>\n",
       "      <td>2</td>\n",
       "    </tr>\n",
       "    <tr>\n",
       "      <th>61582</th>\n",
       "      <td>62359</td>\n",
       "      <td>trickery exasperation seeing pride hijacked po...</td>\n",
       "      <td>0</td>\n",
       "    </tr>\n",
       "    <tr>\n",
       "      <th>132481</th>\n",
       "      <td>133259</td>\n",
       "      <td>test domestically prime minister narendra modi...</td>\n",
       "      <td>2</td>\n",
       "    </tr>\n",
       "  </tbody>\n",
       "</table>\n",
       "</div>"
      ],
      "text/plain": [
       "        Unnamed: 0                                            Comment  \\\n",
       "34328        35105  use external track ball laptop seems excessive...   \n",
       "91929        92707  modi completely unnerved announcement hence hy...   \n",
       "234076      234854  renewed resolve modi taken nation farwith shar...   \n",
       "61582        62359  trickery exasperation seeing pride hijacked po...   \n",
       "132481      133259  test domestically prime minister narendra modi...   \n",
       "\n",
       "        Sentiment  \n",
       "34328           2  \n",
       "91929           0  \n",
       "234076          2  \n",
       "61582           0  \n",
       "132481          2  "
      ]
     },
     "execution_count": 242,
     "metadata": {},
     "output_type": "execute_result"
    }
   ],
   "source": [
    "TextCleaner = TextCleaner()\n",
    "df_cleaned = df_shortened.copy()\n",
    "for index, row in df_shortened.iterrows():\n",
    "    df_cleaned.at[index, 'Comment'] = TextCleaner.clean_text(row['Comment'])\n",
    "\n",
    "df_cleaned.head()"
   ]
  },
  {
   "cell_type": "code",
   "execution_count": 243,
   "id": "8e3e2e02d31a17c3",
   "metadata": {
    "ExecuteTime": {
     "end_time": "2025-06-24T08:29:11.950515Z",
     "start_time": "2025-06-24T08:29:11.935996Z"
    }
   },
   "outputs": [
    {
     "data": {
      "text/html": [
       "<div>\n",
       "<style scoped>\n",
       "    .dataframe tbody tr th:only-of-type {\n",
       "        vertical-align: middle;\n",
       "    }\n",
       "\n",
       "    .dataframe tbody tr th {\n",
       "        vertical-align: top;\n",
       "    }\n",
       "\n",
       "    .dataframe thead th {\n",
       "        text-align: right;\n",
       "    }\n",
       "</style>\n",
       "<table border=\"1\" class=\"dataframe\">\n",
       "  <thead>\n",
       "    <tr style=\"text-align: right;\">\n",
       "      <th></th>\n",
       "      <th>Unnamed: 0</th>\n",
       "      <th>Comment</th>\n",
       "      <th>Sentiment</th>\n",
       "    </tr>\n",
       "  </thead>\n",
       "  <tbody>\n",
       "    <tr>\n",
       "      <th>34328</th>\n",
       "      <td>35105</td>\n",
       "      <td>[use, external, track, ball, laptop, seems, ex...</td>\n",
       "      <td>2</td>\n",
       "    </tr>\n",
       "    <tr>\n",
       "      <th>91929</th>\n",
       "      <td>92707</td>\n",
       "      <td>[modi, completely, unnerved, announcement, hen...</td>\n",
       "      <td>0</td>\n",
       "    </tr>\n",
       "    <tr>\n",
       "      <th>234076</th>\n",
       "      <td>234854</td>\n",
       "      <td>[renewed, resolve, modi, taken, nation, farwit...</td>\n",
       "      <td>2</td>\n",
       "    </tr>\n",
       "    <tr>\n",
       "      <th>61582</th>\n",
       "      <td>62359</td>\n",
       "      <td>[trickery, exasperation, seeing, pride, hijack...</td>\n",
       "      <td>0</td>\n",
       "    </tr>\n",
       "    <tr>\n",
       "      <th>132481</th>\n",
       "      <td>133259</td>\n",
       "      <td>[test, domestically, prime, minister, narendra...</td>\n",
       "      <td>2</td>\n",
       "    </tr>\n",
       "  </tbody>\n",
       "</table>\n",
       "</div>"
      ],
      "text/plain": [
       "        Unnamed: 0                                            Comment  \\\n",
       "34328        35105  [use, external, track, ball, laptop, seems, ex...   \n",
       "91929        92707  [modi, completely, unnerved, announcement, hen...   \n",
       "234076      234854  [renewed, resolve, modi, taken, nation, farwit...   \n",
       "61582        62359  [trickery, exasperation, seeing, pride, hijack...   \n",
       "132481      133259  [test, domestically, prime, minister, narendra...   \n",
       "\n",
       "        Sentiment  \n",
       "34328           2  \n",
       "91929           0  \n",
       "234076          2  \n",
       "61582           0  \n",
       "132481          2  "
      ]
     },
     "execution_count": 243,
     "metadata": {},
     "output_type": "execute_result"
    }
   ],
   "source": [
    "TextTokenizer = TextTokenizer()\n",
    "df_tokenised = df_cleaned.copy()\n",
    "for index, row in df_cleaned.iterrows():\n",
    "    df_tokenised.at[index, 'Comment'] = TextTokenizer.tokenize(row['Comment'])\n",
    "\n",
    "df_tokenised.head()"
   ]
  },
  {
   "cell_type": "code",
   "execution_count": 244,
   "id": "a451f12ba3aed5dc",
   "metadata": {
    "ExecuteTime": {
     "end_time": "2025-06-24T08:29:12.089239Z",
     "start_time": "2025-06-24T08:29:12.070247Z"
    }
   },
   "outputs": [
    {
     "data": {
      "text/html": [
       "<div>\n",
       "<style scoped>\n",
       "    .dataframe tbody tr th:only-of-type {\n",
       "        vertical-align: middle;\n",
       "    }\n",
       "\n",
       "    .dataframe tbody tr th {\n",
       "        vertical-align: top;\n",
       "    }\n",
       "\n",
       "    .dataframe thead th {\n",
       "        text-align: right;\n",
       "    }\n",
       "</style>\n",
       "<table border=\"1\" class=\"dataframe\">\n",
       "  <thead>\n",
       "    <tr style=\"text-align: right;\">\n",
       "      <th></th>\n",
       "      <th>Unnamed: 0</th>\n",
       "      <th>Comment</th>\n",
       "      <th>Sentiment</th>\n",
       "    </tr>\n",
       "  </thead>\n",
       "  <tbody>\n",
       "    <tr>\n",
       "      <th>34328</th>\n",
       "      <td>35105</td>\n",
       "      <td>[use, external, track, ball, laptop, seems, ex...</td>\n",
       "      <td>2</td>\n",
       "    </tr>\n",
       "    <tr>\n",
       "      <th>91929</th>\n",
       "      <td>92707</td>\n",
       "      <td>[modi, completely, unnerved, announcement, hen...</td>\n",
       "      <td>0</td>\n",
       "    </tr>\n",
       "    <tr>\n",
       "      <th>234076</th>\n",
       "      <td>234854</td>\n",
       "      <td>[renewed, resolve, modi, taken, nation, farwit...</td>\n",
       "      <td>2</td>\n",
       "    </tr>\n",
       "    <tr>\n",
       "      <th>61582</th>\n",
       "      <td>62359</td>\n",
       "      <td>[trickery, exasperation, seeing, pride, hijack...</td>\n",
       "      <td>0</td>\n",
       "    </tr>\n",
       "    <tr>\n",
       "      <th>132481</th>\n",
       "      <td>133259</td>\n",
       "      <td>[test, domestically, prime, minister, narendra...</td>\n",
       "      <td>2</td>\n",
       "    </tr>\n",
       "  </tbody>\n",
       "</table>\n",
       "</div>"
      ],
      "text/plain": [
       "        Unnamed: 0                                            Comment  \\\n",
       "34328        35105  [use, external, track, ball, laptop, seems, ex...   \n",
       "91929        92707  [modi, completely, unnerved, announcement, hen...   \n",
       "234076      234854  [renewed, resolve, modi, taken, nation, farwit...   \n",
       "61582        62359  [trickery, exasperation, seeing, pride, hijack...   \n",
       "132481      133259  [test, domestically, prime, minister, narendra...   \n",
       "\n",
       "        Sentiment  \n",
       "34328           2  \n",
       "91929           0  \n",
       "234076          2  \n",
       "61582           0  \n",
       "132481          2  "
      ]
     },
     "execution_count": 244,
     "metadata": {},
     "output_type": "execute_result"
    }
   ],
   "source": [
    "StopwordRemover = StopwordRemover()\n",
    "df_stopwords_removed = df_tokenised.copy()\n",
    "for index, row in df_tokenised.iterrows():\n",
    "    df_stopwords_removed.at[index, 'Comment'] = StopwordRemover.remove_stopwords(row['Comment'])\n",
    "\n",
    "df_stopwords_removed.head()"
   ]
  },
  {
   "cell_type": "code",
   "execution_count": 245,
   "id": "ff52b799a0db5683",
   "metadata": {
    "ExecuteTime": {
     "end_time": "2025-06-24T08:29:16.611169Z",
     "start_time": "2025-06-24T08:29:12.198121Z"
    }
   },
   "outputs": [
    {
     "data": {
      "text/html": [
       "<div>\n",
       "<style scoped>\n",
       "    .dataframe tbody tr th:only-of-type {\n",
       "        vertical-align: middle;\n",
       "    }\n",
       "\n",
       "    .dataframe tbody tr th {\n",
       "        vertical-align: top;\n",
       "    }\n",
       "\n",
       "    .dataframe thead th {\n",
       "        text-align: right;\n",
       "    }\n",
       "</style>\n",
       "<table border=\"1\" class=\"dataframe\">\n",
       "  <thead>\n",
       "    <tr style=\"text-align: right;\">\n",
       "      <th></th>\n",
       "      <th>Unnamed: 0</th>\n",
       "      <th>Comment</th>\n",
       "      <th>Sentiment</th>\n",
       "    </tr>\n",
       "  </thead>\n",
       "  <tbody>\n",
       "    <tr>\n",
       "      <th>34328</th>\n",
       "      <td>35105</td>\n",
       "      <td>[use, external, track, bal, laptop, sems, exce...</td>\n",
       "      <td>2</td>\n",
       "    </tr>\n",
       "    <tr>\n",
       "      <th>91929</th>\n",
       "      <td>92707</td>\n",
       "      <td>[modi, completely, unerved, anouncement, hence...</td>\n",
       "      <td>0</td>\n",
       "    </tr>\n",
       "    <tr>\n",
       "      <th>234076</th>\n",
       "      <td>234854</td>\n",
       "      <td>[renew, resolve, modi, take, nation, farwith, ...</td>\n",
       "      <td>2</td>\n",
       "    </tr>\n",
       "    <tr>\n",
       "      <th>61582</th>\n",
       "      <td>62359</td>\n",
       "      <td>[trickery, exasperation, see, pride, hijack, p...</td>\n",
       "      <td>0</td>\n",
       "    </tr>\n",
       "    <tr>\n",
       "      <th>132481</th>\n",
       "      <td>133259</td>\n",
       "      <td>[test, domesticaly, prime, minister, narendra,...</td>\n",
       "      <td>2</td>\n",
       "    </tr>\n",
       "  </tbody>\n",
       "</table>\n",
       "</div>"
      ],
      "text/plain": [
       "        Unnamed: 0                                            Comment  \\\n",
       "34328        35105  [use, external, track, bal, laptop, sems, exce...   \n",
       "91929        92707  [modi, completely, unerved, anouncement, hence...   \n",
       "234076      234854  [renew, resolve, modi, take, nation, farwith, ...   \n",
       "61582        62359  [trickery, exasperation, see, pride, hijack, p...   \n",
       "132481      133259  [test, domesticaly, prime, minister, narendra,...   \n",
       "\n",
       "        Sentiment  \n",
       "34328           2  \n",
       "91929           0  \n",
       "234076          2  \n",
       "61582           0  \n",
       "132481          2  "
      ]
     },
     "execution_count": 245,
     "metadata": {},
     "output_type": "execute_result"
    }
   ],
   "source": [
    "TextLemmatizer = TextLemmatizer()\n",
    "df_lemmatised = df_stopwords_removed.copy()\n",
    "for index, row in df_stopwords_removed.iterrows():\n",
    "    df_lemmatised.at[index, 'Comment'] = TextLemmatizer.lemmatize(row['Comment'])\n",
    "\n",
    "df_lemmatised.head()"
   ]
  },
  {
   "cell_type": "code",
   "execution_count": 246,
   "id": "23dd62c2",
   "metadata": {},
   "outputs": [
    {
     "name": "stdout",
     "output_type": "stream",
     "text": [
      "Number of empty comments: 13\n",
      "\n",
      "Empty comments found at indices:\n",
      "[43654, 53784, 205324, 19472, 24618, 63910, 4732, 61196, 235494, 82761, 48293, 92845, 70543]\n",
      "Number of empty comments: 0\n"
     ]
    }
   ],
   "source": [
    "empty_comments = df_lemmatised[df_lemmatised['Comment'].apply(lambda x: len(x) == 0)]\n",
    "print(\"Number of empty comments:\", len(empty_comments))\n",
    "\n",
    "if len(empty_comments) > 0:\n",
    "\tprint(\"\\nEmpty comments found at indices:\")\n",
    "\tprint(empty_comments.index.tolist())\n",
    "\n",
    "df_lemmatised = df_lemmatised[df_lemmatised['Comment'].apply(lambda x: len(x) > 0)]\n",
    "\n",
    "empty_comments = df_lemmatised[df_lemmatised['Comment'].apply(lambda x: len(x) == 0)]\n",
    "print(\"Number of empty comments:\", len(empty_comments))\n",
    "\n",
    "if len(empty_comments) > 0:\n",
    "\tprint(\"\\nEmpty comments found at indices:\")"
   ]
  },
  {
   "cell_type": "code",
   "execution_count": 247,
   "id": "59ea98b35f234f86",
   "metadata": {
    "ExecuteTime": {
     "end_time": "2025-06-24T08:29:19.823487Z",
     "start_time": "2025-06-24T08:29:19.781084Z"
    }
   },
   "outputs": [
    {
     "name": "stdout",
     "output_type": "stream",
     "text": [
      "Vocabulary size: 29916\n",
      "Sample tokens: ['<PAD>', '<UNK>', 'checkout', 'nepal', 'botw', 'empire', 'alowted', 'outits', 'biased', 'journeyread']\n"
     ]
    }
   ],
   "source": [
    "all_tokens = []\n",
    "for index, row in df_lemmatised.iterrows():\n",
    "\tall_tokens.extend(row['Comment'])\n",
    "\n",
    "vocab = set(all_tokens)\n",
    "vocab_to_idx = {'<PAD>': 0, '<UNK>': 1}\n",
    "for token in vocab:\n",
    "\tvocab_to_idx[token] = len(vocab_to_idx)\n",
    "\n",
    "idx_to_vocab = {idx: token for token, idx in vocab_to_idx.items()}\n",
    "\n",
    "print(f\"Vocabulary size: {len(vocab_to_idx)}\")\n",
    "print(\"Sample tokens:\", list(vocab_to_idx.keys())[:10])"
   ]
  },
  {
   "cell_type": "code",
   "execution_count": 248,
   "id": "82f2f75b0379d5e4",
   "metadata": {
    "ExecuteTime": {
     "end_time": "2025-06-24T08:50:40.053268Z",
     "start_time": "2025-06-24T08:50:40.032384Z"
    }
   },
   "outputs": [],
   "source": [
    "def tokens_to_indices(tokens, vocab_to_idx):\n",
    "\treturn [vocab_to_idx.get(token, vocab_to_idx['<UNK>']) for token in tokens]\n",
    "\n",
    "df_indices = df_lemmatised.copy()\n",
    "for index, row in df_lemmatised.iterrows():\n",
    "\tdf_indices.at[index, 'Comment'] = tokens_to_indices(row['Comment'], vocab_to_idx)"
   ]
  },
  {
   "cell_type": "code",
   "execution_count": 249,
   "id": "fff9fea1",
   "metadata": {},
   "outputs": [
    {
     "name": "stdout",
     "output_type": "stream",
     "text": [
      "Max sequence length: 709\n",
      "Average sequence length: 13.21\n",
      "Chosen max length (95th percentile): 28\n",
      "Padded sequences shape: 19987 x 28\n"
     ]
    }
   ],
   "source": [
    "def pad_sequences(sequences, max_len, pad_value=0):\n",
    "\tpadded = []\n",
    "\tfor seq in sequences:\n",
    "\t\tif len(seq) > max_len:\n",
    "\t\t\tpadded.append(seq[:max_len])\n",
    "\t\telse:\n",
    "\t\t\tpadded.append(seq + [pad_value] * (max_len - len(seq)))\n",
    "\treturn padded\n",
    "\n",
    "sequence_lengths = [len(seq) for seq in df_indices['Comment']]\n",
    "max_len = max(sequence_lengths)\n",
    "avg_len = sum(sequence_lengths) / len(sequence_lengths)\n",
    "\n",
    "print(f\"Max sequence length: {max_len}\")\n",
    "print(f\"Average sequence length: {avg_len:.2f}\")\n",
    "\n",
    "import numpy as np\n",
    "chosen_max_len = int(np.percentile(sequence_lengths, 95))\n",
    "print(f\"Chosen max length (95th percentile): {chosen_max_len}\")\n",
    "\n",
    "padded_sequences = pad_sequences(df_indices['Comment'].tolist(), chosen_max_len, vocab_to_idx['<PAD>'])\n",
    "\n",
    "print(f\"Padded sequences shape: {len(padded_sequences)} x {len(padded_sequences[0])}\")"
   ]
  },
  {
   "cell_type": "code",
   "execution_count": 250,
   "id": "fde14bbc",
   "metadata": {},
   "outputs": [
    {
     "name": "stdout",
     "output_type": "stream",
     "text": [
      "X shape: torch.Size([19987, 28])\n",
      "y shape: torch.Size([19987])\n",
      "Number of classes: 3\n",
      "Classes distribution: tensor([4550, 6803, 8634])\n",
      "Training set: X_train torch.Size([15989, 28]), y_train torch.Size([15989])\n",
      "Validation set: X_val torch.Size([3998, 28]), y_val torch.Size([3998])\n"
     ]
    }
   ],
   "source": [
    "from sklearn.model_selection import train_test_split\n",
    "\n",
    "X = torch.tensor(padded_sequences, dtype=torch.long)\n",
    "y = torch.tensor(df_indices['Sentiment'].values, dtype=torch.long)\n",
    "\n",
    "print(f\"X shape: {X.shape}\")\n",
    "print(f\"y shape: {y.shape}\")\n",
    "print(f\"Number of classes: {len(torch.unique(y))}\")\n",
    "print(f\"Classes distribution: {torch.bincount(y)}\")\n",
    "\n",
    "X_train, X_val, y_train, y_val = train_test_split(X, y, test_size=0.2, random_state=42, stratify=y)\n",
    "\n",
    "print(f\"Training set: X_train {X_train.shape}, y_train {y_train.shape}\")\n",
    "print(f\"Validation set: X_val {X_val.shape}, y_val {y_val.shape}\")"
   ]
  },
  {
   "cell_type": "markdown",
   "id": "debe8a0e",
   "metadata": {},
   "source": [
    "# RNN Architecture (From Scratch)\n"
   ]
  },
  {
   "cell_type": "code",
   "execution_count": 251,
   "id": "6cfe6a1a",
   "metadata": {},
   "outputs": [],
   "source": [
    "import torch\n",
    "import torch.nn as nn\n",
    "\n",
    "class SimpleRNN(nn.Module):\n",
    "    def __init__(self, input_size, hidden_size, output_size):\n",
    "        super().__init__()\n",
    "        \n",
    "        self.input_size = input_size\n",
    "        self.hidden_size = hidden_size\n",
    "        self.output_size = output_size\n",
    "\n",
    "        #  Poids pour l'entrée\n",
    "        self.W_xh = nn.Parameter(torch.randn(input_size, hidden_size))\n",
    "\n",
    "        # Poids pour l'état caché\n",
    "        self.W_hh = nn.Parameter(torch.randn(hidden_size, hidden_size))\n",
    "\n",
    "        # Biais\n",
    "        self.b_h = nn.Parameter(torch.zeros(hidden_size))\n",
    "\n",
    "        # Couche de sortie\n",
    "        self.fc = nn.Linear(hidden_size, output_size)\n",
    "        \n",
    "\n",
    "    def forward(self, x):\n",
    "        batch_size, seq_len, _ = x.size()\n",
    "\n",
    "        h_t = torch.zeros(batch_size, self.hidden_size)\n",
    "\n",
    "        for t in range(seq_len):\n",
    "            x_t = x[:, t, :]\n",
    "            h_t = torch.tanh(x_t @ self.W_xh + h_t @ self.W_hh + self.b_h)\n",
    "\n",
    "        output = self.fc(h_t)\n",
    "        return output"
   ]
  },
  {
   "cell_type": "code",
   "execution_count": 252,
   "id": "726b9a05",
   "metadata": {},
   "outputs": [],
   "source": [
    "class SentimentRNN(nn.Module):\n",
    "\tdef __init__(self, vocab_size, input_size, hidden_size, num_classes):\n",
    "\t\tsuper(SentimentRNN, self).__init__()\n",
    "\t\tself.hidden_size = hidden_size\n",
    "\t\t\n",
    "\t\t# Couche d'embedding\n",
    "\t\tself.embedding = nn.Embedding(vocab_size, input_size)\n",
    "\t\t\n",
    "\t\t# RNN simple\n",
    "\t\tself.rnn = SimpleRNN(input_size, hidden_size, num_classes)\n",
    "\t\t\n",
    "\tdef forward(self, x):\n",
    "\t\tembedded = self.embedding(x)\n",
    "\t\t\n",
    "\t\toutput = self.rnn(embedded)\n",
    "\t\t\n",
    "\t\treturn output\n",
    "\n",
    "vocab_size = len(vocab_to_idx)\n",
    "input_size = 64\n",
    "hidden_size = 32\n",
    "num_classes = 3\n",
    "\n",
    "model = SentimentRNN(vocab_size, input_size, hidden_size, num_classes)"
   ]
  },
  {
   "cell_type": "markdown",
   "id": "cb34431d",
   "metadata": {},
   "source": [
    "# Training\n"
   ]
  },
  {
   "cell_type": "code",
   "execution_count": 253,
   "id": "788e9cda",
   "metadata": {},
   "outputs": [],
   "source": [
    "import torch.optim as optim\n",
    "from torch.utils.data import DataLoader, TensorDataset\n",
    "\n",
    "learning_rate = 0.01\n",
    "batch_size = 32\n",
    "num_epochs = 20\n",
    "\n",
    "criterion = nn.CrossEntropyLoss()\n",
    "optimizer = optim.Adam(model.parameters(), lr=learning_rate)\n",
    "\n",
    "train_dataset = TensorDataset(X_train, y_train)\n",
    "val_dataset = TensorDataset(X_val, y_val)\n",
    "\n",
    "train_loader = DataLoader(train_dataset, batch_size=batch_size, shuffle=True)\n",
    "val_loader = DataLoader(val_dataset, batch_size=batch_size, shuffle=False)"
   ]
  },
  {
   "cell_type": "code",
   "execution_count": 254,
   "id": "76083526",
   "metadata": {},
   "outputs": [],
   "source": [
    "def train_epoch(model, train_loader, criterion, optimizer):\n",
    "\tmodel.train()\n",
    "\ttotal_loss = 0\n",
    "\ttotal_correct = 0\n",
    "\ttotal_samples = 0\n",
    "\t\n",
    "\tfor batch_idx, (data, target) in enumerate(train_loader):\n",
    "\t\toptimizer.zero_grad()\n",
    "\t\t\n",
    "\t\t# Forward pass\n",
    "\t\toutput = model(data)\n",
    "\t\tloss = criterion(output, target)\n",
    "\t\t\n",
    "\t\t# Backward pass\n",
    "\t\tloss.backward()\n",
    "\t\toptimizer.step()\n",
    "\t\t\n",
    "\t\t# Statistiques\n",
    "\t\ttotal_loss += loss.item()\n",
    "\t\tpred = output.argmax(dim=1)\n",
    "\t\ttotal_correct += (pred == target).sum().item()\n",
    "\t\ttotal_samples += target.size(0)\n",
    "\t\n",
    "\tavg_loss = total_loss / len(train_loader)\n",
    "\taccuracy = total_correct / total_samples\n",
    "\treturn avg_loss, accuracy\n",
    "\n",
    "def validate_epoch(model, val_loader, criterion):\n",
    "\tmodel.eval()\n",
    "\ttotal_loss = 0\n",
    "\ttotal_correct = 0\n",
    "\ttotal_samples = 0\n",
    "\t\n",
    "\twith torch.no_grad():\n",
    "\t\tfor data, target in val_loader:\n",
    "\t\t\toutput = model(data)\n",
    "\t\t\tloss = criterion(output, target)\n",
    "\t\t\t\n",
    "\t\t\ttotal_loss += loss.item()\n",
    "\t\t\tpred = output.argmax(dim=1)\n",
    "\t\t\ttotal_correct += (pred == target).sum().item()\n",
    "\t\t\ttotal_samples += target.size(0)\n",
    "\t\n",
    "\tavg_loss = total_loss / len(val_loader)\n",
    "\taccuracy = total_correct / total_samples\n",
    "\treturn avg_loss, accuracy\n"
   ]
  },
  {
   "cell_type": "code",
   "execution_count": 255,
   "id": "d45e3a6e",
   "metadata": {},
   "outputs": [
    {
     "name": "stdout",
     "output_type": "stream",
     "text": [
      "Epoch [ 1/20] | Train Loss: 1.0823 | Train Acc: 0.4044 | Val Loss: 1.1177 | Val Acc: 0.4280\n",
      "Epoch [ 5/20] | Train Loss: 1.0638 | Train Acc: 0.4192 | Val Loss: 1.0943 | Val Acc: 0.4267\n",
      "Epoch [10/20] | Train Loss: 1.0433 | Train Acc: 0.4247 | Val Loss: 1.0893 | Val Acc: 0.3677\n",
      "Epoch [15/20] | Train Loss: 1.0428 | Train Acc: 0.4360 | Val Loss: 1.1064 | Val Acc: 0.4220\n",
      "Epoch [20/20] | Train Loss: 1.0321 | Train Acc: 0.4384 | Val Loss: 1.1378 | Val Acc: 0.3542\n",
      "Entraînement terminé!\n"
     ]
    }
   ],
   "source": [
    "import matplotlib.pyplot as plt\n",
    "\n",
    "train_losses = []\n",
    "train_accuracies = []\n",
    "val_losses = []\n",
    "val_accuracies = []\n",
    "\n",
    "for epoch in range(num_epochs):\n",
    "\ttrain_loss, train_acc = train_epoch(model, train_loader, criterion, optimizer)\n",
    "\t\n",
    "\tval_loss, val_acc = validate_epoch(model, val_loader, criterion)\n",
    "\n",
    "\t\n",
    "\t# Sauvegarder les métriques\n",
    "\ttrain_losses.append(train_loss)\n",
    "\ttrain_accuracies.append(train_acc)\n",
    "\tval_losses.append(val_loss)\n",
    "\tval_accuracies.append(val_acc)\n",
    "\t\n",
    "\t# Affichage des résultats\n",
    "\tif (epoch + 1) % 5 == 0 or epoch == 0:\n",
    "\t\tprint(f\"Epoch [{epoch+1:2d}/{num_epochs}] | \"\n",
    "\t\t\t  f\"Train Loss: {train_loss:.4f} | Train Acc: {train_acc:.4f} | \"\n",
    "\t\t\t  f\"Val Loss: {val_loss:.4f} | Val Acc: {val_acc:.4f}\")\n",
    "\n",
    "print(\"Entraînement terminé!\")"
   ]
  },
  {
   "cell_type": "code",
   "execution_count": 256,
   "id": "bb14e742",
   "metadata": {},
   "outputs": [
    {
     "data": {
      "image/png": "[encoded data removed]",
      "text/plain": [
       "<Figure size 1500x500 with 2 Axes>"
      ]
     },
     "metadata": {},
     "output_type": "display_data"
    }
   ],
   "source": [
    "# Visualisation des courbes d'entraînement\n",
    "plt.figure(figsize=(15, 5))\n",
    "\n",
    "# Courbes de perte\n",
    "plt.subplot(1, 2, 1)\n",
    "plt.plot(range(1, num_epochs + 1), train_losses, 'b-', label='Loss d\\'entraînement')\n",
    "plt.plot(range(1, num_epochs + 1), val_losses, 'r-', label='Loss de validation')\n",
    "plt.title('Loss d\\'entraînement vs Validation')\n",
    "plt.xlabel('Époque')\n",
    "plt.ylabel('Loss')\n",
    "plt.legend()\n",
    "plt.grid(True)\n",
    "\n",
    "# Courbes de précision\n",
    "plt.subplot(1, 2, 2)\n",
    "plt.plot(range(1, num_epochs + 1), train_accuracies, 'b-', label='Précision d\\'entraînement')\n",
    "plt.plot(range(1, num_epochs + 1), val_accuracies, 'r-', label='Précision de validation')\n",
    "plt.title('Précision d\\'entraînement vs Validation')\n",
    "plt.xlabel('Époque')\n",
    "plt.ylabel('Précision')\n",
    "plt.legend()\n",
    "plt.grid(True)\n",
    "\n",
    "plt.tight_layout()\n",
    "plt.show()"
   ]
  }
 ],
 "metadata": {
  "kernelspec": {
   "display_name": "env311",
   "language": "python",
   "name": "python3"
  },
  "language_info": {
   "codemirror_mode": {
    "name": "ipython",
    "version": 3
   },
   "file_extension": ".py",
   "mimetype": "text/x-python",
   "name": "python",
   "nbconvert_exporter": "python",
   "pygments_lexer": "ipython3",
   "version": "3.11.9"
  }
 },
 "nbformat": 4,
 "nbformat_minor": 5
}
