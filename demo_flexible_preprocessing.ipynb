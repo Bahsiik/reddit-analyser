{
  "cells": [
    {
      "cell_type": "raw",
      "metadata": {
        "vscode": {
          "languageId": "raw"
        }
      },
      "source": [
        "# 🎛️ Démonstration du Preprocessing Flexible\n",
        "\n",
        "Ce notebook démontre le nouveau système de preprocessing flexible avec 3 niveaux d'agressivité :\n",
        "\n",
        "- **🟢 LIGHT** : Préserve l'emphase, emojis, hashtags (idéal pour analyse de sentiment)\n",
        "- **🟡 MEDIUM** : Équilibré avec lemmatisation sélective (préserve les adjectifs)\n",
        "- **🔴 HARD** : Normalisation agressive (idéal pour topic modeling)\n"
      ]
    },
    {
      "cell_type": "code",
      "execution_count": 3,
      "metadata": {},
      "outputs": [],
      "source": [
        "# Import du nouveau système de preprocessing\n",
        "from preprocessing_flexible import (\n",
        "    CleaningLevel, \n",
        "    ProcessorFactory,\n",
        "    light_clean, \n",
        "    medium_clean, \n",
        "    hard_clean,\n",
        "    compare_cleaning\n",
        ")\n"
      ]
    },
    {
      "cell_type": "raw",
      "metadata": {
        "vscode": {
          "languageId": "raw"
        }
      },
      "source": [
        "## 🧪 Cas de Test\n",
        "\n",
        "Nous allons tester sur différents types de textes pour voir comment chaque niveau se comporte.\n"
      ]
    },
    {
      "cell_type": "code",
      "execution_count": 4,
      "metadata": {},
      "outputs": [
        {
          "name": "stdout",
          "output_type": "stream",
          "text": [
            "✅ 5 cas de test préparés\n"
          ]
        }
      ],
      "source": [
        "# Cas de test variés\n",
        "test_cases = [\n",
        "    {\n",
        "        \"name\": \"Sentiment avec emphase\",\n",
        "        \"text\": \"I'm ABSOLUTELY loving this!!! It's SO much better than before... 😍 #Amazing\"\n",
        "    },\n",
        "    {\n",
        "        \"name\": \"Négation importante\", \n",
        "        \"text\": \"This is NOT good at all. I don't like it and won't recommend it. 😡\"\n",
        "    },\n",
        "    {\n",
        "        \"name\": \"Contenu web/social\",\n",
        "        \"text\": \"Check out @openai's new model! https://openai.com/chatgpt #AI #Technology 🚀\"\n",
        "    },\n",
        "    {\n",
        "        \"name\": \"Formes verbales\",\n",
        "        \"text\": \"I was running quickly, jumped higher, and performed better than expected.\"\n",
        "    },\n",
        "    {\n",
        "        \"name\": \"Comparatifs/superlatifs\",\n",
        "        \"text\": \"This is the best, most amazing, better solution I've ever seen!\"\n",
        "    }\n",
        "]\n",
        "\n",
        "print(f\"✅ {len(test_cases)} cas de test préparés\")\n"
      ]
    },
    {
      "cell_type": "code",
      "execution_count": 5,
      "metadata": {},
      "outputs": [
        {
          "data": {
            "text/plain": [
              "{'light': ['text'], 'medium': ['text'], 'hard': ['text']}"
            ]
          },
          "execution_count": 5,
          "metadata": {},
          "output_type": "execute_result"
        }
      ],
      "source": [
        "# Méthodes directes\n",
        "light_clean(\"I'm LOVING this!!! 😍\")\n",
        "medium_clean(\"It's better than before\")\n",
        "hard_clean(\"Complex text with @mentions #hashtags\")\n",
        "\n",
        "# Ou comparaison rapide\n",
        "compare_cleaning(\"Your text here\")"
      ]
    }
  ],
  "metadata": {
    "kernelspec": {
      "display_name": ".venv",
      "language": "python",
      "name": "python3"
    },
    "language_info": {
      "codemirror_mode": {
        "name": "ipython",
        "version": 3
      },
      "file_extension": ".py",
      "mimetype": "text/x-python",
      "name": "python",
      "nbconvert_exporter": "python",
      "pygments_lexer": "ipython3",
      "version": "3.12.10"
    }
  },
  "nbformat": 4,
  "nbformat_minor": 2
}
