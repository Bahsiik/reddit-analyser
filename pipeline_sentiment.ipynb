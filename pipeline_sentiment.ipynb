{
 "cells": [
  {
   "cell_type": "code",
   "execution_count": 3,
   "id": "initial_id",
   "metadata": {
    "ExecuteTime": {
     "end_time": "2025-06-24T08:50:11.254740Z",
     "start_time": "2025-06-24T08:50:11.249851Z"
    },
    "collapsed": true
   },
   "outputs": [],
   "source": [
    "import pandas as pd\n",
    "from preprocessing.light.text_cleaner_light import TextCleaner\n",
    "from preprocessing.text_tokenizer import TextTokenizer\n",
    "from preprocessing.light.text_lemmatizer_light import TextLemmatizer\n",
    "from preprocessing.light.stopword_remover_light import StopwordRemover\n",
    "import torch\n",
    "import torch.nn as nn\n",
    "from embedding.fasttext import FastText\n",
    "import nltk\n",
    "import os\n",
    "\n",
    "from bs4 import MarkupResemblesLocatorWarning\n",
    "import warnings\n",
    "\n",
    "warnings.filterwarnings(\"ignore\", category=MarkupResemblesLocatorWarning)\n",
    "\n",
    "nltk_dir = 'nltk_data'\n",
    "nltk.data.path.append(os.path.abspath(nltk_dir))"
   ]
  },
  {
   "cell_type": "code",
   "execution_count": 4,
   "id": "69e4eea9a96035ed",
   "metadata": {
    "ExecuteTime": {
     "end_time": "2025-06-24T08:28:28.296479Z",
     "start_time": "2025-06-24T08:28:04.566982Z"
    }
   },
   "outputs": [],
   "source": [
    "df = pd.read_csv('./data/sentiment_data.csv')"
   ]
  },
  {
   "cell_type": "code",
   "execution_count": 5,
   "id": "3770360e1b6aa49e",
   "metadata": {
    "ExecuteTime": {
     "end_time": "2025-06-24T08:28:33.858116Z",
     "start_time": "2025-06-24T08:28:33.840972Z"
    }
   },
   "outputs": [
    {
     "data": {
      "text/html": [
       "<div>\n",
       "<style scoped>\n",
       "    .dataframe tbody tr th:only-of-type {\n",
       "        vertical-align: middle;\n",
       "    }\n",
       "\n",
       "    .dataframe tbody tr th {\n",
       "        vertical-align: top;\n",
       "    }\n",
       "\n",
       "    .dataframe thead th {\n",
       "        text-align: right;\n",
       "    }\n",
       "</style>\n",
       "<table border=\"1\" class=\"dataframe\">\n",
       "  <thead>\n",
       "    <tr style=\"text-align: right;\">\n",
       "      <th></th>\n",
       "      <th>Unnamed: 0</th>\n",
       "      <th>Comment</th>\n",
       "      <th>Sentiment</th>\n",
       "    </tr>\n",
       "  </thead>\n",
       "  <tbody>\n",
       "    <tr>\n",
       "      <th>0</th>\n",
       "      <td>0</td>\n",
       "      <td>lets forget apple pay required brand new iphon...</td>\n",
       "      <td>1</td>\n",
       "    </tr>\n",
       "    <tr>\n",
       "      <th>1</th>\n",
       "      <td>1</td>\n",
       "      <td>nz retailers don’t even contactless credit car...</td>\n",
       "      <td>0</td>\n",
       "    </tr>\n",
       "    <tr>\n",
       "      <th>2</th>\n",
       "      <td>2</td>\n",
       "      <td>forever acknowledge channel help lessons ideas...</td>\n",
       "      <td>2</td>\n",
       "    </tr>\n",
       "    <tr>\n",
       "      <th>3</th>\n",
       "      <td>3</td>\n",
       "      <td>whenever go place doesn’t take apple pay doesn...</td>\n",
       "      <td>0</td>\n",
       "    </tr>\n",
       "    <tr>\n",
       "      <th>4</th>\n",
       "      <td>4</td>\n",
       "      <td>apple pay convenient secure easy use used kore...</td>\n",
       "      <td>2</td>\n",
       "    </tr>\n",
       "  </tbody>\n",
       "</table>\n",
       "</div>"
      ],
      "text/plain": [
       "   Unnamed: 0                                            Comment  Sentiment\n",
       "0           0  lets forget apple pay required brand new iphon...          1\n",
       "1           1  nz retailers don’t even contactless credit car...          0\n",
       "2           2  forever acknowledge channel help lessons ideas...          2\n",
       "3           3  whenever go place doesn’t take apple pay doesn...          0\n",
       "4           4  apple pay convenient secure easy use used kore...          2"
      ]
     },
     "execution_count": 5,
     "metadata": {},
     "output_type": "execute_result"
    }
   ],
   "source": [
    "df.head()"
   ]
  },
  {
   "cell_type": "code",
   "execution_count": 6,
   "id": "9a41bffc",
   "metadata": {},
   "outputs": [
    {
     "data": {
      "text/html": [
       "<div>\n",
       "<style scoped>\n",
       "    .dataframe tbody tr th:only-of-type {\n",
       "        vertical-align: middle;\n",
       "    }\n",
       "\n",
       "    .dataframe tbody tr th {\n",
       "        vertical-align: top;\n",
       "    }\n",
       "\n",
       "    .dataframe thead th {\n",
       "        text-align: right;\n",
       "    }\n",
       "</style>\n",
       "<table border=\"1\" class=\"dataframe\">\n",
       "  <thead>\n",
       "    <tr style=\"text-align: right;\">\n",
       "      <th></th>\n",
       "      <th>Unnamed: 0</th>\n",
       "      <th>Comment</th>\n",
       "      <th>Sentiment</th>\n",
       "    </tr>\n",
       "  </thead>\n",
       "  <tbody>\n",
       "    <tr>\n",
       "      <th>5523</th>\n",
       "      <td>5539</td>\n",
       "      <td>consciousness also ability tap collective cons...</td>\n",
       "      <td>0</td>\n",
       "    </tr>\n",
       "    <tr>\n",
       "      <th>97863</th>\n",
       "      <td>98641</td>\n",
       "      <td>mentioned modi promised ndtv link shared</td>\n",
       "      <td>1</td>\n",
       "    </tr>\n",
       "    <tr>\n",
       "      <th>124209</th>\n",
       "      <td>124987</td>\n",
       "      <td>literally one modi woh dekh satellite</td>\n",
       "      <td>1</td>\n",
       "    </tr>\n",
       "    <tr>\n",
       "      <th>101544</th>\n",
       "      <td>102322</td>\n",
       "      <td>thing left say dont pray modi demon heights sy...</td>\n",
       "      <td>1</td>\n",
       "    </tr>\n",
       "    <tr>\n",
       "      <th>112380</th>\n",
       "      <td>113158</td>\n",
       "      <td>till modi ill politics â samriti iranithis m...</td>\n",
       "      <td>1</td>\n",
       "    </tr>\n",
       "  </tbody>\n",
       "</table>\n",
       "</div>"
      ],
      "text/plain": [
       "        Unnamed: 0                                            Comment  \\\n",
       "5523          5539  consciousness also ability tap collective cons...   \n",
       "97863        98641           mentioned modi promised ndtv link shared   \n",
       "124209      124987              literally one modi woh dekh satellite   \n",
       "101544      102322  thing left say dont pray modi demon heights sy...   \n",
       "112380      113158  till modi ill politics â samriti iranithis m...   \n",
       "\n",
       "        Sentiment  \n",
       "5523            0  \n",
       "97863           1  \n",
       "124209          1  \n",
       "101544          1  \n",
       "112380          1  "
      ]
     },
     "execution_count": 6,
     "metadata": {},
     "output_type": "execute_result"
    }
   ],
   "source": [
    "df_shortened = df.sample(n=1000)\n",
    "df_shortened.head()"
   ]
  },
  {
   "cell_type": "markdown",
   "id": "86050cbb",
   "metadata": {},
   "source": [
    "# Preprocessing"
   ]
  },
  {
   "cell_type": "code",
   "execution_count": 7,
   "id": "87b45ac2b2fa1050",
   "metadata": {
    "ExecuteTime": {
     "end_time": "2025-06-24T08:29:11.076450Z",
     "start_time": "2025-06-24T08:28:35.007707Z"
    }
   },
   "outputs": [
    {
     "data": {
      "text/html": [
       "<div>\n",
       "<style scoped>\n",
       "    .dataframe tbody tr th:only-of-type {\n",
       "        vertical-align: middle;\n",
       "    }\n",
       "\n",
       "    .dataframe tbody tr th {\n",
       "        vertical-align: top;\n",
       "    }\n",
       "\n",
       "    .dataframe thead th {\n",
       "        text-align: right;\n",
       "    }\n",
       "</style>\n",
       "<table border=\"1\" class=\"dataframe\">\n",
       "  <thead>\n",
       "    <tr style=\"text-align: right;\">\n",
       "      <th></th>\n",
       "      <th>Unnamed: 0</th>\n",
       "      <th>Comment</th>\n",
       "      <th>Sentiment</th>\n",
       "    </tr>\n",
       "  </thead>\n",
       "  <tbody>\n",
       "    <tr>\n",
       "      <th>5523</th>\n",
       "      <td>5539</td>\n",
       "      <td>consciousness also ability tap collective cons...</td>\n",
       "      <td>0</td>\n",
       "    </tr>\n",
       "    <tr>\n",
       "      <th>97863</th>\n",
       "      <td>98641</td>\n",
       "      <td>mentioned modi promised ndtv link shared</td>\n",
       "      <td>1</td>\n",
       "    </tr>\n",
       "    <tr>\n",
       "      <th>124209</th>\n",
       "      <td>124987</td>\n",
       "      <td>literally one modi woh dekh satellite</td>\n",
       "      <td>1</td>\n",
       "    </tr>\n",
       "    <tr>\n",
       "      <th>101544</th>\n",
       "      <td>102322</td>\n",
       "      <td>thing left say dont pray modi demon heights sy...</td>\n",
       "      <td>1</td>\n",
       "    </tr>\n",
       "    <tr>\n",
       "      <th>112380</th>\n",
       "      <td>113158</td>\n",
       "      <td>till modi ill politics â samriti iranithis m...</td>\n",
       "      <td>1</td>\n",
       "    </tr>\n",
       "  </tbody>\n",
       "</table>\n",
       "</div>"
      ],
      "text/plain": [
       "        Unnamed: 0                                            Comment  \\\n",
       "5523          5539  consciousness also ability tap collective cons...   \n",
       "97863        98641           mentioned modi promised ndtv link shared   \n",
       "124209      124987              literally one modi woh dekh satellite   \n",
       "101544      102322  thing left say dont pray modi demon heights sy...   \n",
       "112380      113158  till modi ill politics â samriti iranithis m...   \n",
       "\n",
       "        Sentiment  \n",
       "5523            0  \n",
       "97863           1  \n",
       "124209          1  \n",
       "101544          1  \n",
       "112380          1  "
      ]
     },
     "execution_count": 7,
     "metadata": {},
     "output_type": "execute_result"
    }
   ],
   "source": [
    "TextCleaner = TextCleaner()\n",
    "df_cleaned = df_shortened.copy()\n",
    "for index, row in df_shortened.iterrows():\n",
    "    df_cleaned.at[index, 'Comment'] = TextCleaner.clean_text(row['Comment'])\n",
    "\n",
    "df_cleaned.head()"
   ]
  },
  {
   "cell_type": "code",
   "execution_count": 8,
   "id": "8e3e2e02d31a17c3",
   "metadata": {
    "ExecuteTime": {
     "end_time": "2025-06-24T08:29:11.950515Z",
     "start_time": "2025-06-24T08:29:11.935996Z"
    }
   },
   "outputs": [
    {
     "data": {
      "text/html": [
       "<div>\n",
       "<style scoped>\n",
       "    .dataframe tbody tr th:only-of-type {\n",
       "        vertical-align: middle;\n",
       "    }\n",
       "\n",
       "    .dataframe tbody tr th {\n",
       "        vertical-align: top;\n",
       "    }\n",
       "\n",
       "    .dataframe thead th {\n",
       "        text-align: right;\n",
       "    }\n",
       "</style>\n",
       "<table border=\"1\" class=\"dataframe\">\n",
       "  <thead>\n",
       "    <tr style=\"text-align: right;\">\n",
       "      <th></th>\n",
       "      <th>Unnamed: 0</th>\n",
       "      <th>Comment</th>\n",
       "      <th>Sentiment</th>\n",
       "    </tr>\n",
       "  </thead>\n",
       "  <tbody>\n",
       "    <tr>\n",
       "      <th>5523</th>\n",
       "      <td>5539</td>\n",
       "      <td>[consciousness, also, ability, tap, collective...</td>\n",
       "      <td>0</td>\n",
       "    </tr>\n",
       "    <tr>\n",
       "      <th>97863</th>\n",
       "      <td>98641</td>\n",
       "      <td>[mentioned, modi, promised, ndtv, link, shared]</td>\n",
       "      <td>1</td>\n",
       "    </tr>\n",
       "    <tr>\n",
       "      <th>124209</th>\n",
       "      <td>124987</td>\n",
       "      <td>[literally, one, modi, woh, dekh, satellite]</td>\n",
       "      <td>1</td>\n",
       "    </tr>\n",
       "    <tr>\n",
       "      <th>101544</th>\n",
       "      <td>102322</td>\n",
       "      <td>[thing, left, say, dont, pray, modi, demon, he...</td>\n",
       "      <td>1</td>\n",
       "    </tr>\n",
       "    <tr>\n",
       "      <th>112380</th>\n",
       "      <td>113158</td>\n",
       "      <td>[till, modi, ill, politics, â, samriti, iran...</td>\n",
       "      <td>1</td>\n",
       "    </tr>\n",
       "  </tbody>\n",
       "</table>\n",
       "</div>"
      ],
      "text/plain": [
       "        Unnamed: 0                                            Comment  \\\n",
       "5523          5539  [consciousness, also, ability, tap, collective...   \n",
       "97863        98641    [mentioned, modi, promised, ndtv, link, shared]   \n",
       "124209      124987       [literally, one, modi, woh, dekh, satellite]   \n",
       "101544      102322  [thing, left, say, dont, pray, modi, demon, he...   \n",
       "112380      113158  [till, modi, ill, politics, â, samriti, iran...   \n",
       "\n",
       "        Sentiment  \n",
       "5523            0  \n",
       "97863           1  \n",
       "124209          1  \n",
       "101544          1  \n",
       "112380          1  "
      ]
     },
     "execution_count": 8,
     "metadata": {},
     "output_type": "execute_result"
    }
   ],
   "source": [
    "TextTokenizer = TextTokenizer()\n",
    "df_tokenised = df_cleaned.copy()\n",
    "for index, row in df_cleaned.iterrows():\n",
    "    df_tokenised.at[index, 'Comment'] = TextTokenizer.tokenize(row['Comment'])\n",
    "\n",
    "df_tokenised.head()"
   ]
  },
  {
   "cell_type": "code",
   "execution_count": 9,
   "id": "a451f12ba3aed5dc",
   "metadata": {
    "ExecuteTime": {
     "end_time": "2025-06-24T08:29:12.089239Z",
     "start_time": "2025-06-24T08:29:12.070247Z"
    }
   },
   "outputs": [
    {
     "data": {
      "text/html": [
       "<div>\n",
       "<style scoped>\n",
       "    .dataframe tbody tr th:only-of-type {\n",
       "        vertical-align: middle;\n",
       "    }\n",
       "\n",
       "    .dataframe tbody tr th {\n",
       "        vertical-align: top;\n",
       "    }\n",
       "\n",
       "    .dataframe thead th {\n",
       "        text-align: right;\n",
       "    }\n",
       "</style>\n",
       "<table border=\"1\" class=\"dataframe\">\n",
       "  <thead>\n",
       "    <tr style=\"text-align: right;\">\n",
       "      <th></th>\n",
       "      <th>Unnamed: 0</th>\n",
       "      <th>Comment</th>\n",
       "      <th>Sentiment</th>\n",
       "    </tr>\n",
       "  </thead>\n",
       "  <tbody>\n",
       "    <tr>\n",
       "      <th>5523</th>\n",
       "      <td>5539</td>\n",
       "      <td>[consciousness, also, ability, tap, collective...</td>\n",
       "      <td>0</td>\n",
       "    </tr>\n",
       "    <tr>\n",
       "      <th>97863</th>\n",
       "      <td>98641</td>\n",
       "      <td>[mentioned, modi, promised, ndtv, link, shared]</td>\n",
       "      <td>1</td>\n",
       "    </tr>\n",
       "    <tr>\n",
       "      <th>124209</th>\n",
       "      <td>124987</td>\n",
       "      <td>[literally, one, modi, woh, dekh, satellite]</td>\n",
       "      <td>1</td>\n",
       "    </tr>\n",
       "    <tr>\n",
       "      <th>101544</th>\n",
       "      <td>102322</td>\n",
       "      <td>[thing, left, say, dont, pray, modi, demon, he...</td>\n",
       "      <td>1</td>\n",
       "    </tr>\n",
       "    <tr>\n",
       "      <th>112380</th>\n",
       "      <td>113158</td>\n",
       "      <td>[till, modi, ill, politics, â, samriti, iran...</td>\n",
       "      <td>1</td>\n",
       "    </tr>\n",
       "  </tbody>\n",
       "</table>\n",
       "</div>"
      ],
      "text/plain": [
       "        Unnamed: 0                                            Comment  \\\n",
       "5523          5539  [consciousness, also, ability, tap, collective...   \n",
       "97863        98641    [mentioned, modi, promised, ndtv, link, shared]   \n",
       "124209      124987       [literally, one, modi, woh, dekh, satellite]   \n",
       "101544      102322  [thing, left, say, dont, pray, modi, demon, he...   \n",
       "112380      113158  [till, modi, ill, politics, â, samriti, iran...   \n",
       "\n",
       "        Sentiment  \n",
       "5523            0  \n",
       "97863           1  \n",
       "124209          1  \n",
       "101544          1  \n",
       "112380          1  "
      ]
     },
     "execution_count": 9,
     "metadata": {},
     "output_type": "execute_result"
    }
   ],
   "source": [
    "StopwordRemover = StopwordRemover()\n",
    "df_stopwords_removed = df_tokenised.copy()\n",
    "for index, row in df_tokenised.iterrows():\n",
    "    df_stopwords_removed.at[index, 'Comment'] = StopwordRemover.remove_stopwords(row['Comment'])\n",
    "\n",
    "df_stopwords_removed.head()"
   ]
  },
  {
   "cell_type": "code",
   "execution_count": 10,
   "id": "ff52b799a0db5683",
   "metadata": {
    "ExecuteTime": {
     "end_time": "2025-06-24T08:29:16.611169Z",
     "start_time": "2025-06-24T08:29:12.198121Z"
    }
   },
   "outputs": [
    {
     "data": {
      "text/html": [
       "<div>\n",
       "<style scoped>\n",
       "    .dataframe tbody tr th:only-of-type {\n",
       "        vertical-align: middle;\n",
       "    }\n",
       "\n",
       "    .dataframe tbody tr th {\n",
       "        vertical-align: top;\n",
       "    }\n",
       "\n",
       "    .dataframe thead th {\n",
       "        text-align: right;\n",
       "    }\n",
       "</style>\n",
       "<table border=\"1\" class=\"dataframe\">\n",
       "  <thead>\n",
       "    <tr style=\"text-align: right;\">\n",
       "      <th></th>\n",
       "      <th>Unnamed: 0</th>\n",
       "      <th>Comment</th>\n",
       "      <th>Sentiment</th>\n",
       "    </tr>\n",
       "  </thead>\n",
       "  <tbody>\n",
       "    <tr>\n",
       "      <th>5523</th>\n",
       "      <td>5539</td>\n",
       "      <td>[consciousnes, also, ability, tap, colective, ...</td>\n",
       "      <td>0</td>\n",
       "    </tr>\n",
       "    <tr>\n",
       "      <th>97863</th>\n",
       "      <td>98641</td>\n",
       "      <td>[mention, modi, promise, ndtv, link, share]</td>\n",
       "      <td>1</td>\n",
       "    </tr>\n",
       "    <tr>\n",
       "      <th>124209</th>\n",
       "      <td>124987</td>\n",
       "      <td>[literaly, one, modi, woh, dekh, satelite]</td>\n",
       "      <td>1</td>\n",
       "    </tr>\n",
       "    <tr>\n",
       "      <th>101544</th>\n",
       "      <td>102322</td>\n",
       "      <td>[thing, leave, say, dont, pray, modi, demon, h...</td>\n",
       "      <td>1</td>\n",
       "    </tr>\n",
       "    <tr>\n",
       "      <th>112380</th>\n",
       "      <td>113158</td>\n",
       "      <td>[til, modi, ill, politics, â, samriti, irani...</td>\n",
       "      <td>1</td>\n",
       "    </tr>\n",
       "  </tbody>\n",
       "</table>\n",
       "</div>"
      ],
      "text/plain": [
       "        Unnamed: 0                                            Comment  \\\n",
       "5523          5539  [consciousnes, also, ability, tap, colective, ...   \n",
       "97863        98641        [mention, modi, promise, ndtv, link, share]   \n",
       "124209      124987         [literaly, one, modi, woh, dekh, satelite]   \n",
       "101544      102322  [thing, leave, say, dont, pray, modi, demon, h...   \n",
       "112380      113158  [til, modi, ill, politics, â, samriti, irani...   \n",
       "\n",
       "        Sentiment  \n",
       "5523            0  \n",
       "97863           1  \n",
       "124209          1  \n",
       "101544          1  \n",
       "112380          1  "
      ]
     },
     "execution_count": 10,
     "metadata": {},
     "output_type": "execute_result"
    }
   ],
   "source": [
    "TextLemmatizer = TextLemmatizer()\n",
    "df_lemmatised = df_stopwords_removed.copy()\n",
    "for index, row in df_stopwords_removed.iterrows():\n",
    "    df_lemmatised.at[index, 'Comment'] = TextLemmatizer.lemmatize(row['Comment'])\n",
    "\n",
    "df_lemmatised.head()\n"
   ]
  },
  {
   "cell_type": "code",
   "execution_count": 11,
   "id": "23dd62c2",
   "metadata": {},
   "outputs": [
    {
     "name": "stdout",
     "output_type": "stream",
     "text": [
      "Number of empty comments: 2\n",
      "\n",
      "Empty comments found at indices:\n",
      "[49685, 153120]\n",
      "Number of empty comments: 0\n"
     ]
    }
   ],
   "source": [
    "empty_comments = df_lemmatised[df_lemmatised['Comment'].apply(lambda x: len(x) == 0)]\n",
    "print(\"Number of empty comments:\", len(empty_comments))\n",
    "\n",
    "if len(empty_comments) > 0:\n",
    "\tprint(\"\\nEmpty comments found at indices:\")\n",
    "\tprint(empty_comments.index.tolist())\n",
    "\n",
    "df_lemmatised = df_lemmatised[df_lemmatised['Comment'].apply(lambda x: len(x) > 0)]\n",
    "\n",
    "empty_comments = df_lemmatised[df_lemmatised['Comment'].apply(lambda x: len(x) == 0)]\n",
    "print(\"Number of empty comments:\", len(empty_comments))\n",
    "\n",
    "if len(empty_comments) > 0:\n",
    "\tprint(\"\\nEmpty comments found at indices:\")"
   ]
  },
  {
   "cell_type": "code",
   "execution_count": 12,
   "id": "59ea98b35f234f86",
   "metadata": {
    "ExecuteTime": {
     "end_time": "2025-06-24T08:29:19.823487Z",
     "start_time": "2025-06-24T08:29:19.781084Z"
    }
   },
   "outputs": [
    {
     "name": "stdout",
     "output_type": "stream",
     "text": [
      "Vocabulary size: 4337\n",
      "Sample tokens: ['<PAD>', '<UNK>', 'independence', 'cary', 'lots', 'kisi', 'defense', 'talk', 'secondary', 'joyce']\n"
     ]
    }
   ],
   "source": [
    "all_tokens = []\n",
    "for index, row in df_lemmatised.iterrows():\n",
    "\tall_tokens.extend(row['Comment'])\n",
    "\n",
    "vocab = set(all_tokens)\n",
    "vocab_to_idx = {'<PAD>': 0, '<UNK>': 1}\n",
    "for token in vocab:\n",
    "\tvocab_to_idx[token] = len(vocab_to_idx)\n",
    "\n",
    "idx_to_vocab = {idx: token for token, idx in vocab_to_idx.items()}\n",
    "\n",
    "print(f\"Vocabulary size: {len(vocab_to_idx)}\")\n",
    "print(\"Sample tokens:\", list(vocab_to_idx.keys())[:10])"
   ]
  },
  {
   "cell_type": "code",
   "execution_count": 13,
   "id": "82f2f75b0379d5e4",
   "metadata": {
    "ExecuteTime": {
     "end_time": "2025-06-24T08:50:40.053268Z",
     "start_time": "2025-06-24T08:50:40.032384Z"
    }
   },
   "outputs": [
    {
     "name": "stdout",
     "output_type": "stream",
     "text": [
      "Sample converted to indices:\n",
      "[2313, 3340, 230, 3588, 2242, 2313, 2748, 1326, 3130, 1171]\n"
     ]
    }
   ],
   "source": [
    "def tokens_to_indices(tokens, vocab_to_idx):\n",
    "\treturn [vocab_to_idx.get(token, vocab_to_idx['<UNK>']) for token in tokens]\n",
    "\n",
    "df_indices = df_lemmatised.copy()\n",
    "for index, row in df_lemmatised.iterrows():\n",
    "\tdf_indices.at[index, 'Comment'] = tokens_to_indices(row['Comment'], vocab_to_idx)\n",
    "\n",
    "print(\"Sample converted to indices:\")\n",
    "print(df_indices['Comment'].iloc[0][:10])  # First 10 indices of first comment"
   ]
  },
  {
   "cell_type": "code",
   "execution_count": 14,
   "id": "fff9fea1",
   "metadata": {},
   "outputs": [
    {
     "name": "stdout",
     "output_type": "stream",
     "text": [
      "Max sequence length: 69\n",
      "Average sequence length: 12.77\n",
      "Chosen max length (95th percentile): 28\n",
      "Padded sequences shape: 998 x 28\n",
      "Sample padded sequence: [2313, 3340, 230, 3588, 2242, 2313, 2748, 1326, 3130, 1171]\n"
     ]
    }
   ],
   "source": [
    "def pad_sequences(sequences, max_len, pad_value=0):\n",
    "\tpadded = []\n",
    "\tfor seq in sequences:\n",
    "\t\tif len(seq) > max_len:\n",
    "\t\t\tpadded.append(seq[:max_len])\n",
    "\t\telse:\n",
    "\t\t\tpadded.append(seq + [pad_value] * (max_len - len(seq)))  # Pad if too short\n",
    "\treturn padded\n",
    "\n",
    "sequence_lengths = [len(seq) for seq in df_indices['Comment']]\n",
    "max_len = max(sequence_lengths)\n",
    "avg_len = sum(sequence_lengths) / len(sequence_lengths)\n",
    "\n",
    "print(f\"Max sequence length: {max_len}\")\n",
    "print(f\"Average sequence length: {avg_len:.2f}\")\n",
    "\n",
    "import numpy as np\n",
    "chosen_max_len = int(np.percentile(sequence_lengths, 95))\n",
    "print(f\"Chosen max length (95th percentile): {chosen_max_len}\")\n",
    "\n",
    "padded_sequences = pad_sequences(df_indices['Comment'].tolist(), chosen_max_len, vocab_to_idx['<PAD>'])\n",
    "\n",
    "print(f\"Padded sequences shape: {len(padded_sequences)} x {len(padded_sequences[0])}\")\n",
    "print(\"Sample padded sequence:\", padded_sequences[0][:10])\n"
   ]
  },
  {
   "cell_type": "code",
   "execution_count": 15,
   "id": "fde14bbc",
   "metadata": {},
   "outputs": [
    {
     "name": "stdout",
     "output_type": "stream",
     "text": [
      "X shape: torch.Size([998, 28])\n",
      "y shape: torch.Size([998])\n",
      "Number of classes: 3\n",
      "Classes distribution: tensor([226, 337, 435])\n",
      "Training set: X_train torch.Size([798, 28]), y_train torch.Size([798])\n",
      "Validation set: X_val torch.Size([200, 28]), y_val torch.Size([200])\n"
     ]
    }
   ],
   "source": [
    "from sklearn.model_selection import train_test_split\n",
    "\n",
    "X = torch.tensor(padded_sequences, dtype=torch.long)\n",
    "y = torch.tensor(df_indices['Sentiment'].values, dtype=torch.long)\n",
    "\n",
    "print(f\"X shape: {X.shape}\")\n",
    "print(f\"y shape: {y.shape}\")\n",
    "print(f\"Number of classes: {len(torch.unique(y))}\")\n",
    "print(f\"Classes distribution: {torch.bincount(y)}\")\n",
    "\n",
    "X_train, X_val, y_train, y_val = train_test_split(X, y, test_size=0.2, random_state=42, stratify=y)\n",
    "\n",
    "print(f\"Training set: X_train {X_train.shape}, y_train {y_train.shape}\")\n",
    "print(f\"Validation set: X_val {X_val.shape}, y_val {y_val.shape}\")\n"
   ]
  },
  {
   "cell_type": "markdown",
   "id": "debe8a0e",
   "metadata": {},
   "source": [
    "# RNN Architecture (From Scratch)\n"
   ]
  },
  {
   "cell_type": "code",
   "execution_count": 16,
   "id": "aabd7cfc",
   "metadata": {},
   "outputs": [
    {
     "name": "stdout",
     "output_type": "stream",
     "text": [
      "RNN Cell implemented successfully!\n"
     ]
    }
   ],
   "source": [
    "class RNNCell(nn.Module):\n",
    "\tdef __init__(self, input_size, hidden_size):\n",
    "\t\tsuper(RNNCell, self).__init__()\n",
    "\t\tself.hidden_size = hidden_size\n",
    "\t\t\n",
    "\t\tself.W_ih = nn.Linear(input_size, hidden_size, bias=True)\n",
    "\t\tself.W_hh = nn.Linear(hidden_size, hidden_size, bias=True)\n",
    "\t\tself.tanh = nn.Tanh()\n",
    "\t\t\n",
    "\tdef forward(self, input, hidden):\n",
    "\t\t# RNN formula: h_t = tanh(W_ih * x_t + W_hh * h_{t-1} + b)\n",
    "\t\tnew_hidden = self.tanh(self.W_ih(input) + self.W_hh(hidden))\n",
    "\t\treturn new_hidden\n",
    "\t\n",
    "\tdef init_hidden(self, batch_size, device):\n",
    "\t\treturn torch.zeros(batch_size, self.hidden_size, device=device)\n",
    "\n",
    "print(\"RNN Cell implemented successfully!\")"
   ]
  },
  {
   "cell_type": "code",
   "execution_count": 17,
   "id": "c178b07a",
   "metadata": {},
   "outputs": [
    {
     "name": "stdout",
     "output_type": "stream",
     "text": [
      "Model created with:\n",
      "- Embedding dimension: 64\n",
      "- Hidden size: 32\n",
      "- Output classes: 3\n"
     ]
    }
   ],
   "source": [
    "# Complete RNN Model for Sentiment Analysis\n",
    "class SentimentRNN(nn.Module):\n",
    "\tdef __init__(self, vocab_size, embedding_dim, hidden_size, num_classes, pad_idx=0):\n",
    "\t\tsuper(SentimentRNN, self).__init__()\n",
    "\t\tself.hidden_size = hidden_size\n",
    "\t\t\n",
    "\t\t# Embedding layer\n",
    "\t\tself.embedding = nn.Embedding(vocab_size, embedding_dim, padding_idx=pad_idx)\n",
    "\t\t\n",
    "\t\t# RNN cell\n",
    "\t\tself.rnn_cell = RNNCell(embedding_dim, hidden_size)\n",
    "\t\t\n",
    "\t\t# Output layer\n",
    "\t\tself.fc = nn.Linear(hidden_size, num_classes)\n",
    "\t\tself.dropout = nn.Dropout(0.3)\n",
    "\t\t\n",
    "\tdef forward(self, x):\n",
    "\t\tbatch_size, seq_len = x.size()\n",
    "\t\tdevice = x.device\n",
    "\t\t\n",
    "\t\tembedded = self.embedding(x)\n",
    "\t\t\n",
    "\t\thidden = self.rnn_cell.init_hidden(batch_size, device)\n",
    "\t\t\n",
    "\t\tfor t in range(seq_len):\n",
    "\t\t\thidden = self.rnn_cell(embedded[:, t, :], hidden)\n",
    "\t\t\n",
    "\t\t# Apply dropout and final classification\n",
    "\t\toutput = self.dropout(hidden)\n",
    "\t\toutput = self.fc(output) \n",
    "\t\t\n",
    "\t\treturn output\n",
    "\t\n",
    "vocab_size = len(vocab_to_idx)\n",
    "embedding_dim = 64\n",
    "hidden_size = 32\n",
    "num_classes = 3\n",
    "\n",
    "model = SentimentRNN(vocab_size, embedding_dim, hidden_size, num_classes)\n",
    "\n",
    "print(f\"Model created with:\")\n",
    "print(f\"- Embedding dimension: {embedding_dim}\")\n",
    "print(f\"- Hidden size: {hidden_size}\")\n",
    "print(f\"- Output classes: {num_classes}\")"
   ]
  },
  {
   "cell_type": "markdown",
   "id": "4697d7ff",
   "metadata": {},
   "source": [
    "# Training Setup\n"
   ]
  },
  {
   "cell_type": "code",
   "execution_count": 18,
   "id": "f1a58096",
   "metadata": {},
   "outputs": [
    {
     "name": "stdout",
     "output_type": "stream",
     "text": [
      "Training setup complete:\n",
      "- Loss function: CrossEntropyLoss (for classification)\n",
      "- Optimizer: Adam\n",
      "- Learning rate: 0.001\n",
      "- Batch size: 32\n",
      "- Number of epochs: 20\n",
      "- Training batches: 25\n",
      "- Validation batches: 7\n"
     ]
    }
   ],
   "source": [
    "# Training setup\n",
    "import torch.optim as optim\n",
    "from torch.utils.data import DataLoader, TensorDataset\n",
    "from sklearn.metrics import accuracy_score, classification_report\n",
    "\n",
    "# Training parameters\n",
    "learning_rate = 0.001\n",
    "batch_size = 32\n",
    "num_epochs = 20\n",
    "\n",
    "# Loss function for classification (not MSE!)\n",
    "criterion = nn.CrossEntropyLoss()\n",
    "optimizer = optim.Adam(model.parameters(), lr=learning_rate)\n",
    "\n",
    "# Create data loaders\n",
    "train_dataset = TensorDataset(X_train, y_train)\n",
    "val_dataset = TensorDataset(X_val, y_val)\n",
    "\n",
    "train_loader = DataLoader(train_dataset, batch_size=batch_size, shuffle=True)\n",
    "val_loader = DataLoader(val_dataset, batch_size=batch_size, shuffle=False)\n",
    "\n",
    "print(f\"Training setup complete:\")\n",
    "print(f\"- Loss function: CrossEntropyLoss (for classification)\")\n",
    "print(f\"- Optimizer: Adam\")\n",
    "print(f\"- Learning rate: {learning_rate}\")\n",
    "print(f\"- Batch size: {batch_size}\")\n",
    "print(f\"- Number of epochs: {num_epochs}\")\n",
    "print(f\"- Training batches: {len(train_loader)}\")\n",
    "print(f\"- Validation batches: {len(val_loader)}\")\n"
   ]
  },
  {
   "cell_type": "code",
   "execution_count": 19,
   "id": "284b69c2",
   "metadata": {},
   "outputs": [
    {
     "name": "stdout",
     "output_type": "stream",
     "text": [
      "Training and validation functions defined successfully!\n"
     ]
    }
   ],
   "source": [
    "# Training function\n",
    "def train_epoch(model, train_loader, criterion, optimizer):\n",
    "\tmodel.train()\n",
    "\ttotal_loss = 0\n",
    "\ttotal_correct = 0\n",
    "\ttotal_samples = 0\n",
    "\t\n",
    "\tfor batch_idx, (data, target) in enumerate(train_loader):\n",
    "\t\toptimizer.zero_grad()\n",
    "\t\t\n",
    "\t\t# Forward pass\n",
    "\t\toutput = model(data)\n",
    "\t\tloss = criterion(output, target)\n",
    "\t\t\n",
    "\t\t# Backward pass\n",
    "\t\tloss.backward()\n",
    "\t\toptimizer.step()\n",
    "\t\t\n",
    "\t\t# Statistics\n",
    "\t\ttotal_loss += loss.item()\n",
    "\t\tpred = output.argmax(dim=1)\n",
    "\t\ttotal_correct += (pred == target).sum().item()\n",
    "\t\ttotal_samples += target.size(0)\n",
    "\t\n",
    "\tavg_loss = total_loss / len(train_loader)\n",
    "\taccuracy = total_correct / total_samples\n",
    "\treturn avg_loss, accuracy\n",
    "\n",
    "# Validation function\n",
    "def validate_epoch(model, val_loader, criterion):\n",
    "\tmodel.eval()\n",
    "\ttotal_loss = 0\n",
    "\ttotal_correct = 0\n",
    "\ttotal_samples = 0\n",
    "\t\n",
    "\twith torch.no_grad():\n",
    "\t\tfor data, target in val_loader:\n",
    "\t\t\toutput = model(data)\n",
    "\t\t\tloss = criterion(output, target)\n",
    "\t\t\t\n",
    "\t\t\ttotal_loss += loss.item()\n",
    "\t\t\tpred = output.argmax(dim=1)\n",
    "\t\t\ttotal_correct += (pred == target).sum().item()\n",
    "\t\t\ttotal_samples += target.size(0)\n",
    "\t\n",
    "\tavg_loss = total_loss / len(val_loader)\n",
    "\taccuracy = total_correct / total_samples\n",
    "\treturn avg_loss, accuracy\n",
    "\n",
    "print(\"Training and validation functions defined successfully!\")\n"
   ]
  },
  {
   "cell_type": "code",
   "execution_count": 20,
   "id": "eadc46a7",
   "metadata": {},
   "outputs": [
    {
     "name": "stdout",
     "output_type": "stream",
     "text": [
      "Starting training...\n",
      "==================================================\n",
      "Epoch [ 1/20] | Train Loss: 1.0913 | Train Acc: 0.3446 | Val Loss: 1.0703 | Val Acc: 0.4150\n",
      "Epoch [ 5/20] | Train Loss: 1.0366 | Train Acc: 0.4612 | Val Loss: 1.0654 | Val Acc: 0.4300\n",
      "Epoch [10/20] | Train Loss: 0.9463 | Train Acc: 0.5125 | Val Loss: 1.1047 | Val Acc: 0.4450\n",
      "Epoch [15/20] | Train Loss: 0.5246 | Train Acc: 0.7970 | Val Loss: 1.4229 | Val Acc: 0.4000\n",
      "Epoch [20/20] | Train Loss: 0.2408 | Train Acc: 0.9273 | Val Loss: 1.8016 | Val Acc: 0.4050\n",
      "==================================================\n",
      "Training completed!\n",
      "Final validation accuracy: 0.4050\n",
      "\n",
      "Classification Report:\n",
      "              precision    recall  f1-score   support\n",
      "\n",
      "    Negative       0.26      0.24      0.25        45\n",
      "     Neutral       0.40      0.50      0.44        68\n",
      "    Positive       0.49      0.41      0.45        87\n",
      "\n",
      "    accuracy                           0.41       200\n",
      "   macro avg       0.39      0.39      0.38       200\n",
      "weighted avg       0.41      0.41      0.40       200\n",
      "\n"
     ]
    }
   ],
   "source": [
    "# Training loop with metrics tracking\n",
    "import matplotlib.pyplot as plt\n",
    "\n",
    "train_losses = []\n",
    "train_accuracies = []\n",
    "val_losses = []\n",
    "val_accuracies = []\n",
    "\n",
    "print(\"Starting training...\")\n",
    "print(\"=\"*50)\n",
    "\n",
    "for epoch in range(num_epochs):\n",
    "\t# Train\n",
    "\ttrain_loss, train_acc = train_epoch(model, train_loader, criterion, optimizer)\n",
    "\t\n",
    "\t# Validate\n",
    "\tval_loss, val_acc = validate_epoch(model, val_loader, criterion)\n",
    "\t\n",
    "\t# Store metrics\n",
    "\ttrain_losses.append(train_loss)\n",
    "\ttrain_accuracies.append(train_acc)\n",
    "\tval_losses.append(val_loss)\n",
    "\tval_accuracies.append(val_acc)\n",
    "\t\n",
    "\t# Print metrics every 5 epochs\n",
    "\tif (epoch + 1) % 5 == 0 or epoch == 0:\n",
    "\t\tprint(f\"Epoch [{epoch+1:2d}/{num_epochs}] | \"\n",
    "\t\t\t  f\"Train Loss: {train_loss:.4f} | Train Acc: {train_acc:.4f} | \"\n",
    "\t\t\t  f\"Val Loss: {val_loss:.4f} | Val Acc: {val_acc:.4f}\")\n",
    "\n",
    "print(\"=\"*50)\n",
    "print(\"Training completed!\")\n",
    "\n",
    "# Final evaluation on validation set\n",
    "model.eval()\n",
    "with torch.no_grad():\n",
    "\tval_predictions = []\n",
    "\tval_true = []\n",
    "\t\n",
    "\tfor data, target in val_loader:\n",
    "\t\toutput = model(data)\n",
    "\t\tpred = output.argmax(dim=1)\n",
    "\t\tval_predictions.extend(pred.cpu().numpy())\n",
    "\t\tval_true.extend(target.cpu().numpy())\n",
    "\n",
    "print(f\"Final validation accuracy: {accuracy_score(val_true, val_predictions):.4f}\")\n",
    "print(\"\\nClassification Report:\")\n",
    "print(classification_report(val_true, val_predictions, target_names=['Negative', 'Neutral', 'Positive']))\n"
   ]
  },
  {
   "cell_type": "code",
   "execution_count": 21,
   "id": "6771fbd2",
   "metadata": {},
   "outputs": [
    {
     "data": {
      "image/png": "[encoded data removed]",
      "text/plain": [
       "<Figure size 1500x500 with 2 Axes>"
      ]
     },
     "metadata": {},
     "output_type": "display_data"
    },
    {
     "name": "stdout",
     "output_type": "stream",
     "text": [
      "Final Results:\n",
      "- Best validation accuracy: 0.4450\n",
      "- Final training accuracy: 0.9273\n",
      "- Final validation accuracy: 0.4050\n",
      "⚠️  Possible overfitting detected (train acc >> val acc)\n"
     ]
    }
   ],
   "source": [
    "# Plot training curves\n",
    "plt.figure(figsize=(15, 5))\n",
    "\n",
    "# Loss curves\n",
    "plt.subplot(1, 2, 1)\n",
    "plt.plot(range(1, num_epochs + 1), train_losses, 'b-', label='Training Loss')\n",
    "plt.plot(range(1, num_epochs + 1), val_losses, 'r-', label='Validation Loss')\n",
    "plt.title('Training vs Validation Loss')\n",
    "plt.xlabel('Epoch')\n",
    "plt.ylabel('Loss')\n",
    "plt.legend()\n",
    "plt.grid(True)\n",
    "\n",
    "# Accuracy curves\n",
    "plt.subplot(1, 2, 2)\n",
    "plt.plot(range(1, num_epochs + 1), train_accuracies, 'b-', label='Training Accuracy')\n",
    "plt.plot(range(1, num_epochs + 1), val_accuracies, 'r-', label='Validation Accuracy')\n",
    "plt.title('Training vs Validation Accuracy')\n",
    "plt.xlabel('Epoch')\n",
    "plt.ylabel('Accuracy')\n",
    "plt.legend()\n",
    "plt.grid(True)\n",
    "\n",
    "plt.tight_layout()\n",
    "plt.show()\n",
    "\n",
    "print(f\"Final Results:\")\n",
    "print(f\"- Best validation accuracy: {max(val_accuracies):.4f}\")\n",
    "print(f\"- Final training accuracy: {train_accuracies[-1]:.4f}\")\n",
    "print(f\"- Final validation accuracy: {val_accuracies[-1]:.4f}\")\n",
    "\n",
    "if train_accuracies[-1] - val_accuracies[-1] > 0.1:\n",
    "\tprint(\"⚠️  Possible overfitting detected (train acc >> val acc)\")\n",
    "else:\n",
    "\tprint(\"✅ Model seems to generalize well\")\n"
   ]
  }
 ],
 "metadata": {
  "kernelspec": {
   "display_name": "env311",
   "language": "python",
   "name": "python3"
  },
  "language_info": {
   "codemirror_mode": {
    "name": "ipython",
    "version": 3
   },
   "file_extension": ".py",
   "mimetype": "text/x-python",
   "name": "python",
   "nbconvert_exporter": "python",
   "pygments_lexer": "ipython3",
   "version": "3.11.9"
  }
 },
 "nbformat": 4,
 "nbformat_minor": 5
}
